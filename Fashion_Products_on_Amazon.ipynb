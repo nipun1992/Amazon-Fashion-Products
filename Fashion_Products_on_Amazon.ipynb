{
  "cells": [
    {
      "cell_type": "markdown",
      "metadata": {
        "id": "9kSGa6N3gRmJ"
      },
      "source": [
        "# Airbnb Prices in European Cities"
      ]
    },
    {
      "cell_type": "markdown",
      "metadata": {
        "id": "uY559BPEgRmM"
      },
      "source": [
        "**We will build a machine learning model to predict the prices of Airbnb listings**"
      ]
    },
    {
      "cell_type": "markdown",
      "metadata": {
        "id": "qe8yqyBzgRmN"
      },
      "source": [
        "#### Importing the required libraries"
      ]
    },
    {
      "cell_type": "code",
      "execution_count": 1,
      "metadata": {
        "id": "CyPqq685gRmN"
      },
      "outputs": [],
      "source": [
        "import numpy as np\n",
        "import pandas as pd\n",
        "from matplotlib import pyplot as plt\n",
        "%matplotlib inline\n",
        "import seaborn as sns\n",
        "import plotly.express as px\n",
        "import os\n",
        "\n",
        "import warnings\n",
        "warnings.filterwarnings('ignore')"
      ]
    },
    {
      "cell_type": "markdown",
      "metadata": {
        "id": "3xDC5UtNgRmP"
      },
      "source": [
        "#### Reading the dataset"
      ]
    },
    {
      "cell_type": "code",
      "execution_count": 2,
      "metadata": {
        "colab": {
          "base_uri": "https://localhost:8080/"
        },
        "id": "kc9gjlUX9LJP",
        "outputId": "9d918468-bbca-4948-d662-4b6c05746511"
      },
      "outputs": [
        {
          "output_type": "stream",
          "name": "stdout",
          "text": [
            "Looking in indexes: https://pypi.org/simple, https://us-python.pkg.dev/colab-wheels/public/simple/\n",
            "Collecting opendatasets\n",
            "  Downloading opendatasets-0.1.22-py3-none-any.whl (15 kB)\n",
            "Requirement already satisfied: tqdm in /usr/local/lib/python3.10/dist-packages (from opendatasets) (4.65.0)\n",
            "Requirement already satisfied: kaggle in /usr/local/lib/python3.10/dist-packages (from opendatasets) (1.5.13)\n",
            "Requirement already satisfied: click in /usr/local/lib/python3.10/dist-packages (from opendatasets) (8.1.3)\n",
            "Requirement already satisfied: six>=1.10 in /usr/local/lib/python3.10/dist-packages (from kaggle->opendatasets) (1.16.0)\n",
            "Requirement already satisfied: certifi in /usr/local/lib/python3.10/dist-packages (from kaggle->opendatasets) (2022.12.7)\n",
            "Requirement already satisfied: python-dateutil in /usr/local/lib/python3.10/dist-packages (from kaggle->opendatasets) (2.8.2)\n",
            "Requirement already satisfied: requests in /usr/local/lib/python3.10/dist-packages (from kaggle->opendatasets) (2.27.1)\n",
            "Requirement already satisfied: python-slugify in /usr/local/lib/python3.10/dist-packages (from kaggle->opendatasets) (8.0.1)\n",
            "Requirement already satisfied: urllib3 in /usr/local/lib/python3.10/dist-packages (from kaggle->opendatasets) (1.26.15)\n",
            "Requirement already satisfied: text-unidecode>=1.3 in /usr/local/lib/python3.10/dist-packages (from python-slugify->kaggle->opendatasets) (1.3)\n",
            "Requirement already satisfied: charset-normalizer~=2.0.0 in /usr/local/lib/python3.10/dist-packages (from requests->kaggle->opendatasets) (2.0.12)\n",
            "Requirement already satisfied: idna<4,>=2.5 in /usr/local/lib/python3.10/dist-packages (from requests->kaggle->opendatasets) (3.4)\n",
            "Installing collected packages: opendatasets\n",
            "Successfully installed opendatasets-0.1.22\n"
          ]
        }
      ],
      "source": [
        "# Installing opendatasets library to download the dataset\n",
        "!pip install opendatasets"
      ]
    },
    {
      "cell_type": "code",
      "execution_count": 3,
      "metadata": {
        "id": "69GwaOmc9Pmf"
      },
      "outputs": [],
      "source": [
        "import opendatasets as od"
      ]
    },
    {
      "cell_type": "code",
      "execution_count": 4,
      "metadata": {
        "id": "0YhfOuP29PsR"
      },
      "outputs": [],
      "source": [
        "# Path to the dataset on kaggle website\n",
        "dataset = r\"https://www.kaggle.com/datasets/thedevastator/fashion-products-on-amazon-ratings-prices-and-pa\""
      ]
    },
    {
      "cell_type": "code",
      "execution_count": 5,
      "metadata": {
        "colab": {
          "base_uri": "https://localhost:8080/"
        },
        "id": "scYHrACH9M6_",
        "outputId": "e46a5f3c-d032-4be0-eb59-1c9bd361b349"
      },
      "outputs": [
        {
          "output_type": "stream",
          "name": "stdout",
          "text": [
            "Please provide your Kaggle credentials to download this dataset. Learn more: http://bit.ly/kaggle-creds\n",
            "Your Kaggle username: nipungupta26\n",
            "Your Kaggle Key: ··········\n",
            "Downloading fashion-products-on-amazon-ratings-prices-and-pa.zip to ./fashion-products-on-amazon-ratings-prices-and-pa\n"
          ]
        },
        {
          "output_type": "stream",
          "name": "stderr",
          "text": [
            "100%|██████████| 8.20M/8.20M [00:00<00:00, 130MB/s]"
          ]
        },
        {
          "output_type": "stream",
          "name": "stdout",
          "text": [
            "\n"
          ]
        },
        {
          "output_type": "stream",
          "name": "stderr",
          "text": [
            "\n"
          ]
        }
      ],
      "source": [
        "# Downloading the dataset\n",
        "od.download(dataset)"
      ]
    },
    {
      "cell_type": "code",
      "execution_count": 6,
      "metadata": {
        "id": "iAF7xfjX9WlQ"
      },
      "outputs": [],
      "source": [
        "# Directory of the downloaded datasets in local system\n",
        "data_dir = r'/content/fashion-products-on-amazon-ratings-prices-and-pa'"
      ]
    },
    {
      "cell_type": "code",
      "execution_count": 7,
      "metadata": {
        "colab": {
          "base_uri": "https://localhost:8080/"
        },
        "id": "NIkEXLj19Wpy",
        "outputId": "63153e0b-5298-46c5-83b3-404c0968f896"
      },
      "outputs": [
        {
          "output_type": "execute_result",
          "data": {
            "text/plain": [
              "['amazon_co-ecommerce_sample.csv']"
            ]
          },
          "metadata": {},
          "execution_count": 7
        }
      ],
      "source": [
        "# Listing out the datasets\n",
        "os.listdir(data_dir)"
      ]
    },
    {
      "cell_type": "code",
      "source": [
        "df = pd.read_csv('/content/fashion-products-on-amazon-ratings-prices-and-pa/amazon_co-ecommerce_sample.csv', index_col=0)"
      ],
      "metadata": {
        "id": "gP_jXRDtaaKq"
      },
      "execution_count": 8,
      "outputs": []
    },
    {
      "cell_type": "code",
      "execution_count": 9,
      "metadata": {
        "id": "tYEXkXonIGxy"
      },
      "outputs": [],
      "source": [
        "pd.set_option('display.max_columns', None)"
      ]
    },
    {
      "cell_type": "code",
      "execution_count": 10,
      "metadata": {
        "colab": {
          "base_uri": "https://localhost:8080/",
          "height": 364
        },
        "id": "ISKgXgm7EKqv",
        "outputId": "57c93eba-a69e-4b77-a6ad-35ad6b9c3c5f"
      },
      "outputs": [
        {
          "output_type": "execute_result",
          "data": {
            "text/plain": [
              "                                uniq_id  \\\n",
              "index                                     \n",
              "0      eac7efa5dbd3d667f26eb3d3ab504464   \n",
              "1      b17540ef7e86e461d37f3ae58b7b72ac   \n",
              "\n",
              "                                            product_name manufacturer   price  \\\n",
              "index                                                                           \n",
              "0                                  Hornby 2014 Catalogue       Hornby   £3.42   \n",
              "1      FunkyBuys® Large Christmas Holiday Express Fes...    FunkyBuys  £16.99   \n",
              "\n",
              "      number_available_in_stock number_of_reviews  \\\n",
              "index                                               \n",
              "0                         5 new                15   \n",
              "1                           NaN                 2   \n",
              "\n",
              "       number_of_answered_questions average_review_rating  \\\n",
              "index                                                       \n",
              "0                               1.0    4.9 out of 5 stars   \n",
              "1                               1.0    4.5 out of 5 stars   \n",
              "\n",
              "                        amazon_category_and_sub_category  \\\n",
              "index                                                      \n",
              "0      Hobbies > Model Trains & Railway Sets > Rail V...   \n",
              "1      Hobbies > Model Trains & Railway Sets > Rail V...   \n",
              "\n",
              "              customers_who_bought_this_item_also_bought  \\\n",
              "index                                                      \n",
              "0      http://www.amazon.co.uk/Hornby-R8150-Catalogue...   \n",
              "1      http://www.amazon.co.uk/Christmas-Holiday-Expr...   \n",
              "\n",
              "                                             description  \\\n",
              "index                                                      \n",
              "0      Product Description Hornby 2014 Catalogue Box ...   \n",
              "1      Size Name:Large FunkyBuys® Large Christmas Hol...   \n",
              "\n",
              "                                     product_information  \\\n",
              "index                                                      \n",
              "0      Technical Details Item Weight640 g Product Dim...   \n",
              "1      Technical Details Manufacturer recommended age...   \n",
              "\n",
              "                                     product_description  \\\n",
              "index                                                      \n",
              "0      Product Description Hornby 2014 Catalogue Box ...   \n",
              "1      Size Name:Large FunkyBuys® Large Christmas Hol...   \n",
              "\n",
              "             items_customers_buy_after_viewing_this_item  \\\n",
              "index                                                      \n",
              "0      http://www.amazon.co.uk/Hornby-R8150-Catalogue...   \n",
              "1      http://www.amazon.co.uk/Christmas-Holiday-Expr...   \n",
              "\n",
              "                          customer_questions_and_answers  \\\n",
              "index                                                      \n",
              "0      Does this catalogue detail all the previous Ho...   \n",
              "1      can you turn off sounds // hi no you cant turn...   \n",
              "\n",
              "                                        customer_reviews  \\\n",
              "index                                                      \n",
              "0      Worth Buying For The Pictures Alone (As Ever) ...   \n",
              "1      Four Stars // 4.0 // 18 Dec. 2015 // By\\n    \\...   \n",
              "\n",
              "                                                 sellers  \n",
              "index                                                     \n",
              "0      {\"seller\"=>[{\"Seller_name_1\"=>\"Amazon.co.uk\", ...  \n",
              "1      {\"seller\"=>{\"Seller_name_1\"=>\"UHD WHOLESALE\", ...  "
            ],
            "text/html": [
              "\n",
              "  <div id=\"df-571a028f-7c9f-4e8a-b9be-ef5c1790ce6d\">\n",
              "    <div class=\"colab-df-container\">\n",
              "      <div>\n",
              "<style scoped>\n",
              "    .dataframe tbody tr th:only-of-type {\n",
              "        vertical-align: middle;\n",
              "    }\n",
              "\n",
              "    .dataframe tbody tr th {\n",
              "        vertical-align: top;\n",
              "    }\n",
              "\n",
              "    .dataframe thead th {\n",
              "        text-align: right;\n",
              "    }\n",
              "</style>\n",
              "<table border=\"1\" class=\"dataframe\">\n",
              "  <thead>\n",
              "    <tr style=\"text-align: right;\">\n",
              "      <th></th>\n",
              "      <th>uniq_id</th>\n",
              "      <th>product_name</th>\n",
              "      <th>manufacturer</th>\n",
              "      <th>price</th>\n",
              "      <th>number_available_in_stock</th>\n",
              "      <th>number_of_reviews</th>\n",
              "      <th>number_of_answered_questions</th>\n",
              "      <th>average_review_rating</th>\n",
              "      <th>amazon_category_and_sub_category</th>\n",
              "      <th>customers_who_bought_this_item_also_bought</th>\n",
              "      <th>description</th>\n",
              "      <th>product_information</th>\n",
              "      <th>product_description</th>\n",
              "      <th>items_customers_buy_after_viewing_this_item</th>\n",
              "      <th>customer_questions_and_answers</th>\n",
              "      <th>customer_reviews</th>\n",
              "      <th>sellers</th>\n",
              "    </tr>\n",
              "    <tr>\n",
              "      <th>index</th>\n",
              "      <th></th>\n",
              "      <th></th>\n",
              "      <th></th>\n",
              "      <th></th>\n",
              "      <th></th>\n",
              "      <th></th>\n",
              "      <th></th>\n",
              "      <th></th>\n",
              "      <th></th>\n",
              "      <th></th>\n",
              "      <th></th>\n",
              "      <th></th>\n",
              "      <th></th>\n",
              "      <th></th>\n",
              "      <th></th>\n",
              "      <th></th>\n",
              "      <th></th>\n",
              "    </tr>\n",
              "  </thead>\n",
              "  <tbody>\n",
              "    <tr>\n",
              "      <th>0</th>\n",
              "      <td>eac7efa5dbd3d667f26eb3d3ab504464</td>\n",
              "      <td>Hornby 2014 Catalogue</td>\n",
              "      <td>Hornby</td>\n",
              "      <td>£3.42</td>\n",
              "      <td>5 new</td>\n",
              "      <td>15</td>\n",
              "      <td>1.0</td>\n",
              "      <td>4.9 out of 5 stars</td>\n",
              "      <td>Hobbies &gt; Model Trains &amp; Railway Sets &gt; Rail V...</td>\n",
              "      <td>http://www.amazon.co.uk/Hornby-R8150-Catalogue...</td>\n",
              "      <td>Product Description Hornby 2014 Catalogue Box ...</td>\n",
              "      <td>Technical Details Item Weight640 g Product Dim...</td>\n",
              "      <td>Product Description Hornby 2014 Catalogue Box ...</td>\n",
              "      <td>http://www.amazon.co.uk/Hornby-R8150-Catalogue...</td>\n",
              "      <td>Does this catalogue detail all the previous Ho...</td>\n",
              "      <td>Worth Buying For The Pictures Alone (As Ever) ...</td>\n",
              "      <td>{\"seller\"=&gt;[{\"Seller_name_1\"=&gt;\"Amazon.co.uk\", ...</td>\n",
              "    </tr>\n",
              "    <tr>\n",
              "      <th>1</th>\n",
              "      <td>b17540ef7e86e461d37f3ae58b7b72ac</td>\n",
              "      <td>FunkyBuys® Large Christmas Holiday Express Fes...</td>\n",
              "      <td>FunkyBuys</td>\n",
              "      <td>£16.99</td>\n",
              "      <td>NaN</td>\n",
              "      <td>2</td>\n",
              "      <td>1.0</td>\n",
              "      <td>4.5 out of 5 stars</td>\n",
              "      <td>Hobbies &gt; Model Trains &amp; Railway Sets &gt; Rail V...</td>\n",
              "      <td>http://www.amazon.co.uk/Christmas-Holiday-Expr...</td>\n",
              "      <td>Size Name:Large FunkyBuys® Large Christmas Hol...</td>\n",
              "      <td>Technical Details Manufacturer recommended age...</td>\n",
              "      <td>Size Name:Large FunkyBuys® Large Christmas Hol...</td>\n",
              "      <td>http://www.amazon.co.uk/Christmas-Holiday-Expr...</td>\n",
              "      <td>can you turn off sounds // hi no you cant turn...</td>\n",
              "      <td>Four Stars // 4.0 // 18 Dec. 2015 // By\\n    \\...</td>\n",
              "      <td>{\"seller\"=&gt;{\"Seller_name_1\"=&gt;\"UHD WHOLESALE\", ...</td>\n",
              "    </tr>\n",
              "  </tbody>\n",
              "</table>\n",
              "</div>\n",
              "      <button class=\"colab-df-convert\" onclick=\"convertToInteractive('df-571a028f-7c9f-4e8a-b9be-ef5c1790ce6d')\"\n",
              "              title=\"Convert this dataframe to an interactive table.\"\n",
              "              style=\"display:none;\">\n",
              "        \n",
              "  <svg xmlns=\"http://www.w3.org/2000/svg\" height=\"24px\"viewBox=\"0 0 24 24\"\n",
              "       width=\"24px\">\n",
              "    <path d=\"M0 0h24v24H0V0z\" fill=\"none\"/>\n",
              "    <path d=\"M18.56 5.44l.94 2.06.94-2.06 2.06-.94-2.06-.94-.94-2.06-.94 2.06-2.06.94zm-11 1L8.5 8.5l.94-2.06 2.06-.94-2.06-.94L8.5 2.5l-.94 2.06-2.06.94zm10 10l.94 2.06.94-2.06 2.06-.94-2.06-.94-.94-2.06-.94 2.06-2.06.94z\"/><path d=\"M17.41 7.96l-1.37-1.37c-.4-.4-.92-.59-1.43-.59-.52 0-1.04.2-1.43.59L10.3 9.45l-7.72 7.72c-.78.78-.78 2.05 0 2.83L4 21.41c.39.39.9.59 1.41.59.51 0 1.02-.2 1.41-.59l7.78-7.78 2.81-2.81c.8-.78.8-2.07 0-2.86zM5.41 20L4 18.59l7.72-7.72 1.47 1.35L5.41 20z\"/>\n",
              "  </svg>\n",
              "      </button>\n",
              "      \n",
              "  <style>\n",
              "    .colab-df-container {\n",
              "      display:flex;\n",
              "      flex-wrap:wrap;\n",
              "      gap: 12px;\n",
              "    }\n",
              "\n",
              "    .colab-df-convert {\n",
              "      background-color: #E8F0FE;\n",
              "      border: none;\n",
              "      border-radius: 50%;\n",
              "      cursor: pointer;\n",
              "      display: none;\n",
              "      fill: #1967D2;\n",
              "      height: 32px;\n",
              "      padding: 0 0 0 0;\n",
              "      width: 32px;\n",
              "    }\n",
              "\n",
              "    .colab-df-convert:hover {\n",
              "      background-color: #E2EBFA;\n",
              "      box-shadow: 0px 1px 2px rgba(60, 64, 67, 0.3), 0px 1px 3px 1px rgba(60, 64, 67, 0.15);\n",
              "      fill: #174EA6;\n",
              "    }\n",
              "\n",
              "    [theme=dark] .colab-df-convert {\n",
              "      background-color: #3B4455;\n",
              "      fill: #D2E3FC;\n",
              "    }\n",
              "\n",
              "    [theme=dark] .colab-df-convert:hover {\n",
              "      background-color: #434B5C;\n",
              "      box-shadow: 0px 1px 3px 1px rgba(0, 0, 0, 0.15);\n",
              "      filter: drop-shadow(0px 1px 2px rgba(0, 0, 0, 0.3));\n",
              "      fill: #FFFFFF;\n",
              "    }\n",
              "  </style>\n",
              "\n",
              "      <script>\n",
              "        const buttonEl =\n",
              "          document.querySelector('#df-571a028f-7c9f-4e8a-b9be-ef5c1790ce6d button.colab-df-convert');\n",
              "        buttonEl.style.display =\n",
              "          google.colab.kernel.accessAllowed ? 'block' : 'none';\n",
              "\n",
              "        async function convertToInteractive(key) {\n",
              "          const element = document.querySelector('#df-571a028f-7c9f-4e8a-b9be-ef5c1790ce6d');\n",
              "          const dataTable =\n",
              "            await google.colab.kernel.invokeFunction('convertToInteractive',\n",
              "                                                     [key], {});\n",
              "          if (!dataTable) return;\n",
              "\n",
              "          const docLinkHtml = 'Like what you see? Visit the ' +\n",
              "            '<a target=\"_blank\" href=https://colab.research.google.com/notebooks/data_table.ipynb>data table notebook</a>'\n",
              "            + ' to learn more about interactive tables.';\n",
              "          element.innerHTML = '';\n",
              "          dataTable['output_type'] = 'display_data';\n",
              "          await google.colab.output.renderOutput(dataTable, element);\n",
              "          const docLink = document.createElement('div');\n",
              "          docLink.innerHTML = docLinkHtml;\n",
              "          element.appendChild(docLink);\n",
              "        }\n",
              "      </script>\n",
              "    </div>\n",
              "  </div>\n",
              "  "
            ]
          },
          "metadata": {},
          "execution_count": 10
        }
      ],
      "source": [
        "df.head(2)"
      ]
    },
    {
      "cell_type": "code",
      "source": [
        "df.nunique()"
      ],
      "metadata": {
        "colab": {
          "base_uri": "https://localhost:8080/"
        },
        "id": "fvJudqKh99Jl",
        "outputId": "9c0a04b4-c765-4b84-e7cf-c281327d0c2c"
      },
      "execution_count": 11,
      "outputs": [
        {
          "output_type": "execute_result",
          "data": {
            "text/plain": [
              "uniq_id                                        10000\n",
              "product_name                                    9964\n",
              "manufacturer                                    2651\n",
              "price                                           2625\n",
              "number_available_in_stock                         89\n",
              "number_of_reviews                                194\n",
              "number_of_answered_questions                      19\n",
              "average_review_rating                             19\n",
              "amazon_category_and_sub_category                 255\n",
              "customers_who_bought_this_item_also_bought      8755\n",
              "description                                     8514\n",
              "product_information                             9939\n",
              "product_description                             8514\n",
              "items_customers_buy_after_viewing_this_item     6749\n",
              "customer_questions_and_answers                   910\n",
              "customer_reviews                                9901\n",
              "sellers                                         6581\n",
              "dtype: int64"
            ]
          },
          "metadata": {},
          "execution_count": 11
        }
      ]
    },
    {
      "cell_type": "code",
      "source": [
        "df = df.drop(['uniq_id', 'product_name', 'customers_who_bought_this_item_also_bought', 'description', 'product_information', 'product_description', 'items_customers_buy_after_viewing_this_item'], axis=1)"
      ],
      "metadata": {
        "id": "gIRFCW7j99NO"
      },
      "execution_count": 12,
      "outputs": []
    },
    {
      "cell_type": "code",
      "execution_count": 13,
      "metadata": {
        "colab": {
          "base_uri": "https://localhost:8080/"
        },
        "id": "i13up_3FWM8f",
        "outputId": "aa920ee1-e32e-4155-d9f5-15338d8b684e"
      },
      "outputs": [
        {
          "output_type": "stream",
          "name": "stdout",
          "text": [
            "<class 'pandas.core.frame.DataFrame'>\n",
            "Int64Index: 10000 entries, 0 to 9999\n",
            "Data columns (total 10 columns):\n",
            " #   Column                            Non-Null Count  Dtype  \n",
            "---  ------                            --------------  -----  \n",
            " 0   manufacturer                      9993 non-null   object \n",
            " 1   price                             8565 non-null   object \n",
            " 2   number_available_in_stock         7500 non-null   object \n",
            " 3   number_of_reviews                 9982 non-null   object \n",
            " 4   number_of_answered_questions      9235 non-null   float64\n",
            " 5   average_review_rating             9982 non-null   object \n",
            " 6   amazon_category_and_sub_category  9310 non-null   object \n",
            " 7   customer_questions_and_answers    914 non-null    object \n",
            " 8   customer_reviews                  9979 non-null   object \n",
            " 9   sellers                           6918 non-null   object \n",
            "dtypes: float64(1), object(9)\n",
            "memory usage: 859.4+ KB\n"
          ]
        }
      ],
      "source": [
        "df.info()"
      ]
    },
    {
      "cell_type": "markdown",
      "metadata": {
        "id": "UHzDa9emmayo"
      },
      "source": [
        "The dataset contains **51707** rows and **21** columns. Also, there are no missing values"
      ]
    },
    {
      "cell_type": "markdown",
      "metadata": {
        "id": "ia1ztyAiBzJh"
      },
      "source": [
        "### About the dataset"
      ]
    },
    {
      "cell_type": "markdown",
      "metadata": {
        "id": "pKMkFWymB3-B"
      },
      "source": [
        "This dataset provides a comprehensive look at Airbnb prices in some of the most popular European cities. Each listing is evaluated for various attributes such as room types, cleanliness and satisfaction ratings, bedrooms, distance from the city centre, and more to capture an in-depth understanding of Airbnb prices on both weekdays and weekends. Using spatial econometric methods, we can analyse and identify the determinants of Airbnb prices across these cities. The dataset includes information such as realSum (the total price of the listing), room_type (private/shared/entire home/apt), host_is_superhost (boolean value indicating if host is a superhost or not), multi (indicator whether listing is for multiple rooms or not), biz (business indicator) , guest_satisfaction_overall (overall rating from guests camparing all listings offered by host ), bedrooms, dist (distance from city center) , lng & lat coordinates for location identification etc. The objective is to offer insight into how global markets are affected by social dynamics and geographical factors which in turn determine pricing strategies for optimal profitability!"
      ]
    },
    {
      "cell_type": "markdown",
      "metadata": {
        "id": "GMbRmXNICsUp"
      },
      "source": [
        "**realSum**:\tThe total price of the Airbnb listing. (Numeric)\n",
        "\n",
        "**room_type**:\tThe type of room being offered (e.g. private, shared, etc.). (Categorical)\n",
        "\n",
        "**room_shared**:\tWhether the room is shared or not. (Boolean)\n",
        "\n",
        "**room_private**:\tWhether the room is private or not. (Boolean)\n",
        "\n",
        "**person_capacity**;\tThe maximum number of people that can stay in the room. (Numeric)\n",
        "\n",
        "**host_is_superhost**:\tWhether the host is a superhost or not. (Boolean)\n",
        "\n",
        "**multi**:\tWhether the listing is for multiple rooms or not. (Boolean)\n",
        "\n",
        "**biz**:\tWhether the listing is for business purposes or not. (Boolean)\n",
        "\n",
        "**cleanliness_rating**:\tThe cleanliness rating of the listing. (Numeric)\n",
        "\n",
        "**guest_satisfaction_overall**:\tThe overall guest satisfaction rating of the listing. (Numeric)\n",
        "\n",
        "**bedrooms**:\tThe number of bedrooms in the listing. (Numeric)\n",
        "\n",
        "**dist**:\tThe distance from the city centre. (Numeric)\n",
        "\n",
        "**metro_dist**:\tThe distance from the nearest metro station. (Numeric)\n",
        "\n",
        "**lng**:\tThe longitude of the listing. (Numeric)\n",
        "\n",
        "**lat**:\tThe latitude of the listing. (Numeric)"
      ]
    },
    {
      "cell_type": "code",
      "source": [
        "df.dtypes"
      ],
      "metadata": {
        "colab": {
          "base_uri": "https://localhost:8080/"
        },
        "id": "VYCpCz9vf_fJ",
        "outputId": "7996263b-d5ec-4313-d2d0-5adaac97325f"
      },
      "execution_count": 14,
      "outputs": [
        {
          "output_type": "execute_result",
          "data": {
            "text/plain": [
              "manufacturer                         object\n",
              "price                                object\n",
              "number_available_in_stock            object\n",
              "number_of_reviews                    object\n",
              "number_of_answered_questions        float64\n",
              "average_review_rating                object\n",
              "amazon_category_and_sub_category     object\n",
              "customer_questions_and_answers       object\n",
              "customer_reviews                     object\n",
              "sellers                              object\n",
              "dtype: object"
            ]
          },
          "metadata": {},
          "execution_count": 14
        }
      ]
    },
    {
      "cell_type": "code",
      "source": [
        "import re"
      ],
      "metadata": {
        "id": "0IpOgQqOe93B"
      },
      "execution_count": 15,
      "outputs": []
    },
    {
      "cell_type": "code",
      "source": [
        "df['price'] = [re.sub('£', '', str(e)) for e in df['price']]"
      ],
      "metadata": {
        "id": "jOGzvju4eC-D"
      },
      "execution_count": 16,
      "outputs": []
    },
    {
      "cell_type": "code",
      "source": [
        "df['price'] = [re.sub(',', '', str(e)) for e in df['price']]"
      ],
      "metadata": {
        "id": "WJXGZZwO0p8R"
      },
      "execution_count": 17,
      "outputs": []
    },
    {
      "cell_type": "code",
      "source": [
        "df[df['price'] == '269.00 - 699.99']"
      ],
      "metadata": {
        "colab": {
          "base_uri": "https://localhost:8080/",
          "height": 211
        },
        "id": "YN5SzwhtjsQ_",
        "outputId": "02d2a6f7-df11-4fd7-c248-931452b18032"
      },
      "execution_count": 18,
      "outputs": [
        {
          "output_type": "execute_result",
          "data": {
            "text/plain": [
              "      manufacturer            price number_available_in_stock  \\\n",
              "index                                                           \n",
              "1655       Bestway  269.00 - 699.99                       NaN   \n",
              "\n",
              "      number_of_reviews  number_of_answered_questions average_review_rating  \\\n",
              "index                                                                         \n",
              "1655                  1                           1.0    5.0 out of 5 stars   \n",
              "\n",
              "      amazon_category_and_sub_category customer_questions_and_answers  \\\n",
              "index                                                                   \n",
              "1655                               NaN                            NaN   \n",
              "\n",
              "                                        customer_reviews  \\\n",
              "index                                                      \n",
              "1655   Five Stars // 5.0 // 26 Dec. 2014 // By\\n    \\...   \n",
              "\n",
              "                                                 sellers  \n",
              "index                                                     \n",
              "1655   {\"seller\"=>[{\"Seller_name_1\"=>\"Playtimes\", \"Se...  "
            ],
            "text/html": [
              "\n",
              "  <div id=\"df-c65788e7-c6d7-43b9-baf4-6cb6d243459a\">\n",
              "    <div class=\"colab-df-container\">\n",
              "      <div>\n",
              "<style scoped>\n",
              "    .dataframe tbody tr th:only-of-type {\n",
              "        vertical-align: middle;\n",
              "    }\n",
              "\n",
              "    .dataframe tbody tr th {\n",
              "        vertical-align: top;\n",
              "    }\n",
              "\n",
              "    .dataframe thead th {\n",
              "        text-align: right;\n",
              "    }\n",
              "</style>\n",
              "<table border=\"1\" class=\"dataframe\">\n",
              "  <thead>\n",
              "    <tr style=\"text-align: right;\">\n",
              "      <th></th>\n",
              "      <th>manufacturer</th>\n",
              "      <th>price</th>\n",
              "      <th>number_available_in_stock</th>\n",
              "      <th>number_of_reviews</th>\n",
              "      <th>number_of_answered_questions</th>\n",
              "      <th>average_review_rating</th>\n",
              "      <th>amazon_category_and_sub_category</th>\n",
              "      <th>customer_questions_and_answers</th>\n",
              "      <th>customer_reviews</th>\n",
              "      <th>sellers</th>\n",
              "    </tr>\n",
              "    <tr>\n",
              "      <th>index</th>\n",
              "      <th></th>\n",
              "      <th></th>\n",
              "      <th></th>\n",
              "      <th></th>\n",
              "      <th></th>\n",
              "      <th></th>\n",
              "      <th></th>\n",
              "      <th></th>\n",
              "      <th></th>\n",
              "      <th></th>\n",
              "    </tr>\n",
              "  </thead>\n",
              "  <tbody>\n",
              "    <tr>\n",
              "      <th>1655</th>\n",
              "      <td>Bestway</td>\n",
              "      <td>269.00 - 699.99</td>\n",
              "      <td>NaN</td>\n",
              "      <td>1</td>\n",
              "      <td>1.0</td>\n",
              "      <td>5.0 out of 5 stars</td>\n",
              "      <td>NaN</td>\n",
              "      <td>NaN</td>\n",
              "      <td>Five Stars // 5.0 // 26 Dec. 2014 // By\\n    \\...</td>\n",
              "      <td>{\"seller\"=&gt;[{\"Seller_name_1\"=&gt;\"Playtimes\", \"Se...</td>\n",
              "    </tr>\n",
              "  </tbody>\n",
              "</table>\n",
              "</div>\n",
              "      <button class=\"colab-df-convert\" onclick=\"convertToInteractive('df-c65788e7-c6d7-43b9-baf4-6cb6d243459a')\"\n",
              "              title=\"Convert this dataframe to an interactive table.\"\n",
              "              style=\"display:none;\">\n",
              "        \n",
              "  <svg xmlns=\"http://www.w3.org/2000/svg\" height=\"24px\"viewBox=\"0 0 24 24\"\n",
              "       width=\"24px\">\n",
              "    <path d=\"M0 0h24v24H0V0z\" fill=\"none\"/>\n",
              "    <path d=\"M18.56 5.44l.94 2.06.94-2.06 2.06-.94-2.06-.94-.94-2.06-.94 2.06-2.06.94zm-11 1L8.5 8.5l.94-2.06 2.06-.94-2.06-.94L8.5 2.5l-.94 2.06-2.06.94zm10 10l.94 2.06.94-2.06 2.06-.94-2.06-.94-.94-2.06-.94 2.06-2.06.94z\"/><path d=\"M17.41 7.96l-1.37-1.37c-.4-.4-.92-.59-1.43-.59-.52 0-1.04.2-1.43.59L10.3 9.45l-7.72 7.72c-.78.78-.78 2.05 0 2.83L4 21.41c.39.39.9.59 1.41.59.51 0 1.02-.2 1.41-.59l7.78-7.78 2.81-2.81c.8-.78.8-2.07 0-2.86zM5.41 20L4 18.59l7.72-7.72 1.47 1.35L5.41 20z\"/>\n",
              "  </svg>\n",
              "      </button>\n",
              "      \n",
              "  <style>\n",
              "    .colab-df-container {\n",
              "      display:flex;\n",
              "      flex-wrap:wrap;\n",
              "      gap: 12px;\n",
              "    }\n",
              "\n",
              "    .colab-df-convert {\n",
              "      background-color: #E8F0FE;\n",
              "      border: none;\n",
              "      border-radius: 50%;\n",
              "      cursor: pointer;\n",
              "      display: none;\n",
              "      fill: #1967D2;\n",
              "      height: 32px;\n",
              "      padding: 0 0 0 0;\n",
              "      width: 32px;\n",
              "    }\n",
              "\n",
              "    .colab-df-convert:hover {\n",
              "      background-color: #E2EBFA;\n",
              "      box-shadow: 0px 1px 2px rgba(60, 64, 67, 0.3), 0px 1px 3px 1px rgba(60, 64, 67, 0.15);\n",
              "      fill: #174EA6;\n",
              "    }\n",
              "\n",
              "    [theme=dark] .colab-df-convert {\n",
              "      background-color: #3B4455;\n",
              "      fill: #D2E3FC;\n",
              "    }\n",
              "\n",
              "    [theme=dark] .colab-df-convert:hover {\n",
              "      background-color: #434B5C;\n",
              "      box-shadow: 0px 1px 3px 1px rgba(0, 0, 0, 0.15);\n",
              "      filter: drop-shadow(0px 1px 2px rgba(0, 0, 0, 0.3));\n",
              "      fill: #FFFFFF;\n",
              "    }\n",
              "  </style>\n",
              "\n",
              "      <script>\n",
              "        const buttonEl =\n",
              "          document.querySelector('#df-c65788e7-c6d7-43b9-baf4-6cb6d243459a button.colab-df-convert');\n",
              "        buttonEl.style.display =\n",
              "          google.colab.kernel.accessAllowed ? 'block' : 'none';\n",
              "\n",
              "        async function convertToInteractive(key) {\n",
              "          const element = document.querySelector('#df-c65788e7-c6d7-43b9-baf4-6cb6d243459a');\n",
              "          const dataTable =\n",
              "            await google.colab.kernel.invokeFunction('convertToInteractive',\n",
              "                                                     [key], {});\n",
              "          if (!dataTable) return;\n",
              "\n",
              "          const docLinkHtml = 'Like what you see? Visit the ' +\n",
              "            '<a target=\"_blank\" href=https://colab.research.google.com/notebooks/data_table.ipynb>data table notebook</a>'\n",
              "            + ' to learn more about interactive tables.';\n",
              "          element.innerHTML = '';\n",
              "          dataTable['output_type'] = 'display_data';\n",
              "          await google.colab.output.renderOutput(dataTable, element);\n",
              "          const docLink = document.createElement('div');\n",
              "          docLink.innerHTML = docLinkHtml;\n",
              "          element.appendChild(docLink);\n",
              "        }\n",
              "      </script>\n",
              "    </div>\n",
              "  </div>\n",
              "  "
            ]
          },
          "metadata": {},
          "execution_count": 18
        }
      ]
    },
    {
      "cell_type": "code",
      "source": [
        "for i, e in enumerate(df['price']):\n",
        "  matcher = re.finditer('-', e)\n",
        "  for m in matcher:\n",
        "    df = df[df['price'] != e]"
      ],
      "metadata": {
        "id": "QL7hLMH-mN50"
      },
      "execution_count": 19,
      "outputs": []
    },
    {
      "cell_type": "code",
      "source": [
        "df['price'] = df['price'].astype(float)"
      ],
      "metadata": {
        "id": "GvVkNj_ueDAU"
      },
      "execution_count": 20,
      "outputs": []
    },
    {
      "cell_type": "code",
      "source": [
        "df['number_available_in_stock'] = [re.sub('\\s[a-zA-Z]+', '', str(e)) for e in df['number_available_in_stock']]"
      ],
      "metadata": {
        "id": "u717InMf1vuy"
      },
      "execution_count": 21,
      "outputs": []
    },
    {
      "cell_type": "code",
      "source": [
        "df['number_available_in_stock'] = df['number_available_in_stock'].astype(float)"
      ],
      "metadata": {
        "id": "AMql30A-1vx3"
      },
      "execution_count": 22,
      "outputs": []
    },
    {
      "cell_type": "code",
      "source": [
        "df['number_of_reviews'] = [re.sub(',', '', str(e)) for e in df['number_of_reviews']]"
      ],
      "metadata": {
        "id": "OdtM1pI14azH"
      },
      "execution_count": 23,
      "outputs": []
    },
    {
      "cell_type": "code",
      "source": [
        "df['number_of_reviews'] = df['number_of_reviews'].astype(float)"
      ],
      "metadata": {
        "id": "1OS5Cq2t4VBX"
      },
      "execution_count": 24,
      "outputs": []
    },
    {
      "cell_type": "code",
      "source": [
        "df['average_review_rating'] = [re.sub(' out of 5 stars', '', str(e)) for e in df['average_review_rating']]"
      ],
      "metadata": {
        "id": "c0P5hWOB4oeg"
      },
      "execution_count": 25,
      "outputs": []
    },
    {
      "cell_type": "code",
      "source": [
        "df['average_review_rating'] = df['average_review_rating'].astype(float)"
      ],
      "metadata": {
        "id": "yniO9Wtl4yP4"
      },
      "execution_count": 26,
      "outputs": []
    },
    {
      "cell_type": "code",
      "source": [
        "df.info()"
      ],
      "metadata": {
        "id": "NNDxw0D-eDCg",
        "colab": {
          "base_uri": "https://localhost:8080/"
        },
        "outputId": "c963d7bf-c581-443f-c5bd-9d39859c9cdc"
      },
      "execution_count": 27,
      "outputs": [
        {
          "output_type": "stream",
          "name": "stdout",
          "text": [
            "<class 'pandas.core.frame.DataFrame'>\n",
            "Int64Index: 9982 entries, 0 to 9999\n",
            "Data columns (total 10 columns):\n",
            " #   Column                            Non-Null Count  Dtype  \n",
            "---  ------                            --------------  -----  \n",
            " 0   manufacturer                      9975 non-null   object \n",
            " 1   price                             8547 non-null   float64\n",
            " 2   number_available_in_stock         7500 non-null   float64\n",
            " 3   number_of_reviews                 9964 non-null   float64\n",
            " 4   number_of_answered_questions      9218 non-null   float64\n",
            " 5   average_review_rating             9964 non-null   float64\n",
            " 6   amazon_category_and_sub_category  9294 non-null   object \n",
            " 7   customer_questions_and_answers    913 non-null    object \n",
            " 8   customer_reviews                  9961 non-null   object \n",
            " 9   sellers                           6906 non-null   object \n",
            "dtypes: float64(5), object(5)\n",
            "memory usage: 857.8+ KB\n"
          ]
        }
      ]
    },
    {
      "cell_type": "markdown",
      "metadata": {
        "id": "hAnSIsHzWM8i"
      },
      "source": [
        "Description about numerical features"
      ]
    },
    {
      "cell_type": "code",
      "execution_count": 28,
      "metadata": {
        "id": "zmkzT_I3nEWu",
        "colab": {
          "base_uri": "https://localhost:8080/",
          "height": 300
        },
        "outputId": "99b4b4de-e259-4bf3-9d4c-f77fbdcbeb55"
      },
      "outputs": [
        {
          "output_type": "execute_result",
          "data": {
            "text/plain": [
              "             price  number_available_in_stock  number_of_reviews  \\\n",
              "count  8547.000000                7500.000000        9964.000000   \n",
              "mean     20.251406                   7.916933           9.123244   \n",
              "std      46.314450                   8.805777          33.723984   \n",
              "min       0.010000                   1.000000           1.000000   \n",
              "25%       4.990000                   3.000000           1.000000   \n",
              "50%      10.560000                   5.000000           2.000000   \n",
              "75%      19.990000                  10.000000           6.000000   \n",
              "max    2439.920000                  92.000000        1399.000000   \n",
              "\n",
              "       number_of_answered_questions  average_review_rating  \n",
              "count                   9218.000000            9964.000000  \n",
              "mean                       1.834454               4.707658  \n",
              "std                        2.517194               0.372163  \n",
              "min                        1.000000               2.300000  \n",
              "25%                        1.000000               4.500000  \n",
              "50%                        1.000000               5.000000  \n",
              "75%                        2.000000               5.000000  \n",
              "max                       39.000000               5.000000  "
            ],
            "text/html": [
              "\n",
              "  <div id=\"df-c69adb48-1870-49ee-ad81-e79944cbe1a1\">\n",
              "    <div class=\"colab-df-container\">\n",
              "      <div>\n",
              "<style scoped>\n",
              "    .dataframe tbody tr th:only-of-type {\n",
              "        vertical-align: middle;\n",
              "    }\n",
              "\n",
              "    .dataframe tbody tr th {\n",
              "        vertical-align: top;\n",
              "    }\n",
              "\n",
              "    .dataframe thead th {\n",
              "        text-align: right;\n",
              "    }\n",
              "</style>\n",
              "<table border=\"1\" class=\"dataframe\">\n",
              "  <thead>\n",
              "    <tr style=\"text-align: right;\">\n",
              "      <th></th>\n",
              "      <th>price</th>\n",
              "      <th>number_available_in_stock</th>\n",
              "      <th>number_of_reviews</th>\n",
              "      <th>number_of_answered_questions</th>\n",
              "      <th>average_review_rating</th>\n",
              "    </tr>\n",
              "  </thead>\n",
              "  <tbody>\n",
              "    <tr>\n",
              "      <th>count</th>\n",
              "      <td>8547.000000</td>\n",
              "      <td>7500.000000</td>\n",
              "      <td>9964.000000</td>\n",
              "      <td>9218.000000</td>\n",
              "      <td>9964.000000</td>\n",
              "    </tr>\n",
              "    <tr>\n",
              "      <th>mean</th>\n",
              "      <td>20.251406</td>\n",
              "      <td>7.916933</td>\n",
              "      <td>9.123244</td>\n",
              "      <td>1.834454</td>\n",
              "      <td>4.707658</td>\n",
              "    </tr>\n",
              "    <tr>\n",
              "      <th>std</th>\n",
              "      <td>46.314450</td>\n",
              "      <td>8.805777</td>\n",
              "      <td>33.723984</td>\n",
              "      <td>2.517194</td>\n",
              "      <td>0.372163</td>\n",
              "    </tr>\n",
              "    <tr>\n",
              "      <th>min</th>\n",
              "      <td>0.010000</td>\n",
              "      <td>1.000000</td>\n",
              "      <td>1.000000</td>\n",
              "      <td>1.000000</td>\n",
              "      <td>2.300000</td>\n",
              "    </tr>\n",
              "    <tr>\n",
              "      <th>25%</th>\n",
              "      <td>4.990000</td>\n",
              "      <td>3.000000</td>\n",
              "      <td>1.000000</td>\n",
              "      <td>1.000000</td>\n",
              "      <td>4.500000</td>\n",
              "    </tr>\n",
              "    <tr>\n",
              "      <th>50%</th>\n",
              "      <td>10.560000</td>\n",
              "      <td>5.000000</td>\n",
              "      <td>2.000000</td>\n",
              "      <td>1.000000</td>\n",
              "      <td>5.000000</td>\n",
              "    </tr>\n",
              "    <tr>\n",
              "      <th>75%</th>\n",
              "      <td>19.990000</td>\n",
              "      <td>10.000000</td>\n",
              "      <td>6.000000</td>\n",
              "      <td>2.000000</td>\n",
              "      <td>5.000000</td>\n",
              "    </tr>\n",
              "    <tr>\n",
              "      <th>max</th>\n",
              "      <td>2439.920000</td>\n",
              "      <td>92.000000</td>\n",
              "      <td>1399.000000</td>\n",
              "      <td>39.000000</td>\n",
              "      <td>5.000000</td>\n",
              "    </tr>\n",
              "  </tbody>\n",
              "</table>\n",
              "</div>\n",
              "      <button class=\"colab-df-convert\" onclick=\"convertToInteractive('df-c69adb48-1870-49ee-ad81-e79944cbe1a1')\"\n",
              "              title=\"Convert this dataframe to an interactive table.\"\n",
              "              style=\"display:none;\">\n",
              "        \n",
              "  <svg xmlns=\"http://www.w3.org/2000/svg\" height=\"24px\"viewBox=\"0 0 24 24\"\n",
              "       width=\"24px\">\n",
              "    <path d=\"M0 0h24v24H0V0z\" fill=\"none\"/>\n",
              "    <path d=\"M18.56 5.44l.94 2.06.94-2.06 2.06-.94-2.06-.94-.94-2.06-.94 2.06-2.06.94zm-11 1L8.5 8.5l.94-2.06 2.06-.94-2.06-.94L8.5 2.5l-.94 2.06-2.06.94zm10 10l.94 2.06.94-2.06 2.06-.94-2.06-.94-.94-2.06-.94 2.06-2.06.94z\"/><path d=\"M17.41 7.96l-1.37-1.37c-.4-.4-.92-.59-1.43-.59-.52 0-1.04.2-1.43.59L10.3 9.45l-7.72 7.72c-.78.78-.78 2.05 0 2.83L4 21.41c.39.39.9.59 1.41.59.51 0 1.02-.2 1.41-.59l7.78-7.78 2.81-2.81c.8-.78.8-2.07 0-2.86zM5.41 20L4 18.59l7.72-7.72 1.47 1.35L5.41 20z\"/>\n",
              "  </svg>\n",
              "      </button>\n",
              "      \n",
              "  <style>\n",
              "    .colab-df-container {\n",
              "      display:flex;\n",
              "      flex-wrap:wrap;\n",
              "      gap: 12px;\n",
              "    }\n",
              "\n",
              "    .colab-df-convert {\n",
              "      background-color: #E8F0FE;\n",
              "      border: none;\n",
              "      border-radius: 50%;\n",
              "      cursor: pointer;\n",
              "      display: none;\n",
              "      fill: #1967D2;\n",
              "      height: 32px;\n",
              "      padding: 0 0 0 0;\n",
              "      width: 32px;\n",
              "    }\n",
              "\n",
              "    .colab-df-convert:hover {\n",
              "      background-color: #E2EBFA;\n",
              "      box-shadow: 0px 1px 2px rgba(60, 64, 67, 0.3), 0px 1px 3px 1px rgba(60, 64, 67, 0.15);\n",
              "      fill: #174EA6;\n",
              "    }\n",
              "\n",
              "    [theme=dark] .colab-df-convert {\n",
              "      background-color: #3B4455;\n",
              "      fill: #D2E3FC;\n",
              "    }\n",
              "\n",
              "    [theme=dark] .colab-df-convert:hover {\n",
              "      background-color: #434B5C;\n",
              "      box-shadow: 0px 1px 3px 1px rgba(0, 0, 0, 0.15);\n",
              "      filter: drop-shadow(0px 1px 2px rgba(0, 0, 0, 0.3));\n",
              "      fill: #FFFFFF;\n",
              "    }\n",
              "  </style>\n",
              "\n",
              "      <script>\n",
              "        const buttonEl =\n",
              "          document.querySelector('#df-c69adb48-1870-49ee-ad81-e79944cbe1a1 button.colab-df-convert');\n",
              "        buttonEl.style.display =\n",
              "          google.colab.kernel.accessAllowed ? 'block' : 'none';\n",
              "\n",
              "        async function convertToInteractive(key) {\n",
              "          const element = document.querySelector('#df-c69adb48-1870-49ee-ad81-e79944cbe1a1');\n",
              "          const dataTable =\n",
              "            await google.colab.kernel.invokeFunction('convertToInteractive',\n",
              "                                                     [key], {});\n",
              "          if (!dataTable) return;\n",
              "\n",
              "          const docLinkHtml = 'Like what you see? Visit the ' +\n",
              "            '<a target=\"_blank\" href=https://colab.research.google.com/notebooks/data_table.ipynb>data table notebook</a>'\n",
              "            + ' to learn more about interactive tables.';\n",
              "          element.innerHTML = '';\n",
              "          dataTable['output_type'] = 'display_data';\n",
              "          await google.colab.output.renderOutput(dataTable, element);\n",
              "          const docLink = document.createElement('div');\n",
              "          docLink.innerHTML = docLinkHtml;\n",
              "          element.appendChild(docLink);\n",
              "        }\n",
              "      </script>\n",
              "    </div>\n",
              "  </div>\n",
              "  "
            ]
          },
          "metadata": {},
          "execution_count": 28
        }
      ],
      "source": [
        "df.describe()"
      ]
    },
    {
      "cell_type": "markdown",
      "metadata": {
        "id": "Ny2Mw1L8WM8i"
      },
      "source": [
        "Description about categorical features"
      ]
    },
    {
      "cell_type": "code",
      "execution_count": 29,
      "metadata": {
        "id": "mUY51QvanEYs",
        "colab": {
          "base_uri": "https://localhost:8080/",
          "height": 254
        },
        "outputId": "4e272fbe-8892-40bf-a2c8-910e2147e5c6"
      },
      "outputs": [
        {
          "output_type": "execute_result",
          "data": {
            "text/plain": [
              "       manufacturer                   amazon_category_and_sub_category  \\\n",
              "count          9975                                               9294   \n",
              "unique         2650                                                255   \n",
              "top            LEGO  Die-Cast & Toy Vehicles > Toy Vehicles & Acces...   \n",
              "freq            171                                                880   \n",
              "\n",
              "       customer_questions_and_answers  \\\n",
              "count                             913   \n",
              "unique                            909   \n",
              "top        Is it 12 days or 24? // 24   \n",
              "freq                                2   \n",
              "\n",
              "                                         customer_reviews  \\\n",
              "count                                                9961   \n",
              "unique                                               9884   \n",
              "top     Five Stars // 5.0 // 1 Feb. 2015 // By\\n    \\n...   \n",
              "freq                                                    5   \n",
              "\n",
              "                                                  sellers  \n",
              "count                                                6906  \n",
              "unique                                               6569  \n",
              "top     {\"seller\"=>{\"Seller_name_1\"=>\"k2-accessories\",...  \n",
              "freq                                                   27  "
            ],
            "text/html": [
              "\n",
              "  <div id=\"df-ce7c29b8-6d63-402b-917a-3172ad348a0d\">\n",
              "    <div class=\"colab-df-container\">\n",
              "      <div>\n",
              "<style scoped>\n",
              "    .dataframe tbody tr th:only-of-type {\n",
              "        vertical-align: middle;\n",
              "    }\n",
              "\n",
              "    .dataframe tbody tr th {\n",
              "        vertical-align: top;\n",
              "    }\n",
              "\n",
              "    .dataframe thead th {\n",
              "        text-align: right;\n",
              "    }\n",
              "</style>\n",
              "<table border=\"1\" class=\"dataframe\">\n",
              "  <thead>\n",
              "    <tr style=\"text-align: right;\">\n",
              "      <th></th>\n",
              "      <th>manufacturer</th>\n",
              "      <th>amazon_category_and_sub_category</th>\n",
              "      <th>customer_questions_and_answers</th>\n",
              "      <th>customer_reviews</th>\n",
              "      <th>sellers</th>\n",
              "    </tr>\n",
              "  </thead>\n",
              "  <tbody>\n",
              "    <tr>\n",
              "      <th>count</th>\n",
              "      <td>9975</td>\n",
              "      <td>9294</td>\n",
              "      <td>913</td>\n",
              "      <td>9961</td>\n",
              "      <td>6906</td>\n",
              "    </tr>\n",
              "    <tr>\n",
              "      <th>unique</th>\n",
              "      <td>2650</td>\n",
              "      <td>255</td>\n",
              "      <td>909</td>\n",
              "      <td>9884</td>\n",
              "      <td>6569</td>\n",
              "    </tr>\n",
              "    <tr>\n",
              "      <th>top</th>\n",
              "      <td>LEGO</td>\n",
              "      <td>Die-Cast &amp; Toy Vehicles &gt; Toy Vehicles &amp; Acces...</td>\n",
              "      <td>Is it 12 days or 24? // 24</td>\n",
              "      <td>Five Stars // 5.0 // 1 Feb. 2015 // By\\n    \\n...</td>\n",
              "      <td>{\"seller\"=&gt;{\"Seller_name_1\"=&gt;\"k2-accessories\",...</td>\n",
              "    </tr>\n",
              "    <tr>\n",
              "      <th>freq</th>\n",
              "      <td>171</td>\n",
              "      <td>880</td>\n",
              "      <td>2</td>\n",
              "      <td>5</td>\n",
              "      <td>27</td>\n",
              "    </tr>\n",
              "  </tbody>\n",
              "</table>\n",
              "</div>\n",
              "      <button class=\"colab-df-convert\" onclick=\"convertToInteractive('df-ce7c29b8-6d63-402b-917a-3172ad348a0d')\"\n",
              "              title=\"Convert this dataframe to an interactive table.\"\n",
              "              style=\"display:none;\">\n",
              "        \n",
              "  <svg xmlns=\"http://www.w3.org/2000/svg\" height=\"24px\"viewBox=\"0 0 24 24\"\n",
              "       width=\"24px\">\n",
              "    <path d=\"M0 0h24v24H0V0z\" fill=\"none\"/>\n",
              "    <path d=\"M18.56 5.44l.94 2.06.94-2.06 2.06-.94-2.06-.94-.94-2.06-.94 2.06-2.06.94zm-11 1L8.5 8.5l.94-2.06 2.06-.94-2.06-.94L8.5 2.5l-.94 2.06-2.06.94zm10 10l.94 2.06.94-2.06 2.06-.94-2.06-.94-.94-2.06-.94 2.06-2.06.94z\"/><path d=\"M17.41 7.96l-1.37-1.37c-.4-.4-.92-.59-1.43-.59-.52 0-1.04.2-1.43.59L10.3 9.45l-7.72 7.72c-.78.78-.78 2.05 0 2.83L4 21.41c.39.39.9.59 1.41.59.51 0 1.02-.2 1.41-.59l7.78-7.78 2.81-2.81c.8-.78.8-2.07 0-2.86zM5.41 20L4 18.59l7.72-7.72 1.47 1.35L5.41 20z\"/>\n",
              "  </svg>\n",
              "      </button>\n",
              "      \n",
              "  <style>\n",
              "    .colab-df-container {\n",
              "      display:flex;\n",
              "      flex-wrap:wrap;\n",
              "      gap: 12px;\n",
              "    }\n",
              "\n",
              "    .colab-df-convert {\n",
              "      background-color: #E8F0FE;\n",
              "      border: none;\n",
              "      border-radius: 50%;\n",
              "      cursor: pointer;\n",
              "      display: none;\n",
              "      fill: #1967D2;\n",
              "      height: 32px;\n",
              "      padding: 0 0 0 0;\n",
              "      width: 32px;\n",
              "    }\n",
              "\n",
              "    .colab-df-convert:hover {\n",
              "      background-color: #E2EBFA;\n",
              "      box-shadow: 0px 1px 2px rgba(60, 64, 67, 0.3), 0px 1px 3px 1px rgba(60, 64, 67, 0.15);\n",
              "      fill: #174EA6;\n",
              "    }\n",
              "\n",
              "    [theme=dark] .colab-df-convert {\n",
              "      background-color: #3B4455;\n",
              "      fill: #D2E3FC;\n",
              "    }\n",
              "\n",
              "    [theme=dark] .colab-df-convert:hover {\n",
              "      background-color: #434B5C;\n",
              "      box-shadow: 0px 1px 3px 1px rgba(0, 0, 0, 0.15);\n",
              "      filter: drop-shadow(0px 1px 2px rgba(0, 0, 0, 0.3));\n",
              "      fill: #FFFFFF;\n",
              "    }\n",
              "  </style>\n",
              "\n",
              "      <script>\n",
              "        const buttonEl =\n",
              "          document.querySelector('#df-ce7c29b8-6d63-402b-917a-3172ad348a0d button.colab-df-convert');\n",
              "        buttonEl.style.display =\n",
              "          google.colab.kernel.accessAllowed ? 'block' : 'none';\n",
              "\n",
              "        async function convertToInteractive(key) {\n",
              "          const element = document.querySelector('#df-ce7c29b8-6d63-402b-917a-3172ad348a0d');\n",
              "          const dataTable =\n",
              "            await google.colab.kernel.invokeFunction('convertToInteractive',\n",
              "                                                     [key], {});\n",
              "          if (!dataTable) return;\n",
              "\n",
              "          const docLinkHtml = 'Like what you see? Visit the ' +\n",
              "            '<a target=\"_blank\" href=https://colab.research.google.com/notebooks/data_table.ipynb>data table notebook</a>'\n",
              "            + ' to learn more about interactive tables.';\n",
              "          element.innerHTML = '';\n",
              "          dataTable['output_type'] = 'display_data';\n",
              "          await google.colab.output.renderOutput(dataTable, element);\n",
              "          const docLink = document.createElement('div');\n",
              "          docLink.innerHTML = docLinkHtml;\n",
              "          element.appendChild(docLink);\n",
              "        }\n",
              "      </script>\n",
              "    </div>\n",
              "  </div>\n",
              "  "
            ]
          },
          "metadata": {},
          "execution_count": 29
        }
      ],
      "source": [
        "df.describe(include=['O'])"
      ]
    },
    {
      "cell_type": "markdown",
      "metadata": {
        "id": "neWtb79XWM8i"
      },
      "source": [
        "# Data Leakage\n",
        "\n",
        "During the training phase, the ML model should know only about the training data. But if the model gets to know about the test data during the training phase, then this is called data leakage.\n",
        "\n",
        "So we should perform splitting of the dataset before applying feature engineering. After splitting, we will first apply feature engineering for the training data and then apply it on to the test data. This will help to reduce data leakage and overfitting.\n",
        "\n",
        "But presence of duplicates can also cause data leakage. Therefore, we will first remove the duplicate records from the dataset and then perform train test split"
      ]
    },
    {
      "cell_type": "code",
      "source": [
        "df.duplicated(subset=None, keep='first').sum()"
      ],
      "metadata": {
        "colab": {
          "base_uri": "https://localhost:8080/"
        },
        "id": "sOMCjklyIQ6Z",
        "outputId": "621c0b2d-e817-4691-bb13-6cb5c49d42e6"
      },
      "execution_count": 30,
      "outputs": [
        {
          "output_type": "execute_result",
          "data": {
            "text/plain": [
              "11"
            ]
          },
          "metadata": {},
          "execution_count": 30
        }
      ]
    },
    {
      "cell_type": "code",
      "source": [
        "df.shape"
      ],
      "metadata": {
        "colab": {
          "base_uri": "https://localhost:8080/"
        },
        "id": "ulUctJAJIdOY",
        "outputId": "bfd81aff-d266-4bd7-d595-365d9d95bf81"
      },
      "execution_count": 31,
      "outputs": [
        {
          "output_type": "execute_result",
          "data": {
            "text/plain": [
              "(9982, 10)"
            ]
          },
          "metadata": {},
          "execution_count": 31
        }
      ]
    },
    {
      "cell_type": "code",
      "source": [
        "df = df[df.duplicated(df.columns.tolist(), keep='first')==False]"
      ],
      "metadata": {
        "id": "__ESVRVZIgoI"
      },
      "execution_count": 32,
      "outputs": []
    },
    {
      "cell_type": "code",
      "source": [
        "df.duplicated(subset=None, keep='first').sum()"
      ],
      "metadata": {
        "colab": {
          "base_uri": "https://localhost:8080/"
        },
        "id": "5bLn4cK4IIPg",
        "outputId": "d884c213-790e-477b-e935-daa6bbfd9303"
      },
      "execution_count": 33,
      "outputs": [
        {
          "output_type": "execute_result",
          "data": {
            "text/plain": [
              "0"
            ]
          },
          "metadata": {},
          "execution_count": 33
        }
      ]
    },
    {
      "cell_type": "markdown",
      "metadata": {
        "id": "fpTPdpkJmays"
      },
      "source": [
        "There are no duplicate values in the data"
      ]
    },
    {
      "cell_type": "code",
      "source": [
        "df.reset_index(inplace = True, drop = True)"
      ],
      "metadata": {
        "id": "IQor9afSJYrM"
      },
      "execution_count": 34,
      "outputs": []
    },
    {
      "cell_type": "markdown",
      "metadata": {
        "id": "0j2SEYXMmays"
      },
      "source": [
        "#### Splitting the dataset into training and testing datasets"
      ]
    },
    {
      "cell_type": "code",
      "execution_count": 35,
      "metadata": {
        "id": "kf8z3EazmpN8"
      },
      "outputs": [],
      "source": [
        "X = df.drop(columns=[\"price\"], axis=1)\n",
        "Y = df.price"
      ]
    },
    {
      "cell_type": "code",
      "execution_count": 36,
      "metadata": {
        "id": "wdWcNBcInsun"
      },
      "outputs": [],
      "source": [
        "from sklearn.model_selection import train_test_split, StratifiedShuffleSplit\n",
        "X_train, X_test, y_train, y_test = train_test_split(X, Y, test_size = 0.3, random_state = 42, shuffle=True)"
      ]
    },
    {
      "cell_type": "markdown",
      "metadata": {
        "id": "JYCVVMZBmazA"
      },
      "source": [
        "Resetting the indices for the training dataframes"
      ]
    },
    {
      "cell_type": "code",
      "execution_count": 37,
      "metadata": {
        "id": "d8XLrRRqZXga"
      },
      "outputs": [],
      "source": [
        "X_train.reset_index(inplace = True, drop = True)"
      ]
    },
    {
      "cell_type": "code",
      "execution_count": 38,
      "metadata": {
        "id": "3QoAO20FZZMX"
      },
      "outputs": [],
      "source": [
        "y_train.reset_index(inplace = True, drop = True)"
      ]
    },
    {
      "cell_type": "markdown",
      "metadata": {
        "id": "yl7J3XhHmazD"
      },
      "source": [
        "Joining the training dataframe"
      ]
    },
    {
      "cell_type": "code",
      "execution_count": 39,
      "metadata": {
        "id": "DiY_hx_Cnswl"
      },
      "outputs": [],
      "source": [
        "df_train = X_train.join(y_train, how='inner')"
      ]
    },
    {
      "cell_type": "markdown",
      "metadata": {
        "id": "l2MgpyjtmazF"
      },
      "source": [
        "Resetting the indices for the testing dataframes"
      ]
    },
    {
      "cell_type": "code",
      "execution_count": 40,
      "metadata": {
        "id": "KDwrohHoZqKj"
      },
      "outputs": [],
      "source": [
        "X_test.reset_index(inplace = True, drop = True)"
      ]
    },
    {
      "cell_type": "code",
      "execution_count": 41,
      "metadata": {
        "id": "Ot2Up-DpZqMi"
      },
      "outputs": [],
      "source": [
        "y_test.reset_index(inplace = True, drop = True)"
      ]
    },
    {
      "cell_type": "markdown",
      "metadata": {
        "id": "r86de26GmazH"
      },
      "source": [
        "Joining the testing dataframe"
      ]
    },
    {
      "cell_type": "code",
      "execution_count": 42,
      "metadata": {
        "id": "ej6xITBRn3sQ"
      },
      "outputs": [],
      "source": [
        "df_test = X_test.join(y_test, how='inner')"
      ]
    },
    {
      "cell_type": "markdown",
      "metadata": {
        "id": "imyeU05mmazI"
      },
      "source": [
        "## Data Preprocessing and cleaning in the training dataframe"
      ]
    },
    {
      "cell_type": "code",
      "execution_count": 44,
      "metadata": {
        "id": "TvdKjhQdn31X",
        "colab": {
          "base_uri": "https://localhost:8080/"
        },
        "outputId": "04b31518-8a44-4e8f-d41b-2b15c56c1368"
      },
      "outputs": [
        {
          "output_type": "execute_result",
          "data": {
            "text/plain": [
              "manufacturer                           5\n",
              "number_available_in_stock           1726\n",
              "number_of_reviews                     14\n",
              "number_of_answered_questions         535\n",
              "average_review_rating                 14\n",
              "amazon_category_and_sub_category     465\n",
              "customer_questions_and_answers      6350\n",
              "customer_reviews                      16\n",
              "sellers                             2173\n",
              "price                               1029\n",
              "dtype: int64"
            ]
          },
          "metadata": {},
          "execution_count": 44
        }
      ],
      "source": [
        "df_train.isnull().sum()"
      ]
    },
    {
      "cell_type": "code",
      "execution_count": 45,
      "metadata": {
        "id": "MyBNPIKjoJPj",
        "colab": {
          "base_uri": "https://localhost:8080/"
        },
        "outputId": "441c6f33-9931-45cb-9315-52046565ed2c"
      },
      "outputs": [
        {
          "output_type": "execute_result",
          "data": {
            "text/plain": [
              "manufacturer                        0.000716\n",
              "number_available_in_stock           0.247313\n",
              "number_of_reviews                   0.002006\n",
              "number_of_answered_questions        0.076659\n",
              "average_review_rating               0.002006\n",
              "amazon_category_and_sub_category    0.066628\n",
              "customer_questions_and_answers      0.909872\n",
              "customer_reviews                    0.002293\n",
              "sellers                             0.311363\n",
              "price                               0.147442\n",
              "dtype: float64"
            ]
          },
          "metadata": {},
          "execution_count": 45
        }
      ],
      "source": [
        "(df_train.isnull().sum()/len(df_train))*100"
      ]
    },
    {
      "cell_type": "code",
      "source": [
        "for feature in df_train.columns:\n",
        "  if (df_train[feature].isnull().sum()/len(df_train))*100 > 90:\n",
        "    df_train = df_train.drop([feature], axis=1)\n",
        "  elif (df_train[feature].isnull().sum()/len(df_train))*100 <= 1:\n",
        "    df_train = df_train.dropna(subset=[feature])"
      ],
      "metadata": {
        "id": "jUGXFzgkNOdq"
      },
      "execution_count": 46,
      "outputs": []
    },
    {
      "cell_type": "code",
      "source": [
        "(df_train.isnull().sum()/len(df_train))*100"
      ],
      "metadata": {
        "colab": {
          "base_uri": "https://localhost:8080/"
        },
        "id": "X4MaxTKVNOgm",
        "outputId": "d58364c2-7aaa-4c27-d3d8-818981783339"
      },
      "execution_count": 51,
      "outputs": [
        {
          "output_type": "execute_result",
          "data": {
            "text/plain": [
              "manufacturer                         0.000000\n",
              "number_available_in_stock           24.719747\n",
              "number_of_reviews                    0.000000\n",
              "number_of_answered_questions         7.674619\n",
              "average_review_rating                0.000000\n",
              "amazon_category_and_sub_category     6.596723\n",
              "customer_reviews                     0.000000\n",
              "sellers                             31.187123\n",
              "price                               14.716873\n",
              "dtype: float64"
            ]
          },
          "metadata": {},
          "execution_count": 51
        }
      ]
    },
    {
      "cell_type": "code",
      "source": [
        "NaN_features = [feature for feature in df_train.iloc[:, :-1].columns if (df_train[feature].count() < df_train.shape[0]) and (feature in df_train.select_dtypes(np.number).columns)]\n",
        "NaN_features"
      ],
      "metadata": {
        "colab": {
          "base_uri": "https://localhost:8080/"
        },
        "id": "w7k2IbeJNXhF",
        "outputId": "58b41224-be50-40c1-b669-d5a2e438d262"
      },
      "execution_count": 57,
      "outputs": [
        {
          "output_type": "execute_result",
          "data": {
            "text/plain": [
              "['number_available_in_stock', 'number_of_answered_questions']"
            ]
          },
          "metadata": {},
          "execution_count": 57
        }
      ]
    },
    {
      "cell_type": "code",
      "source": [
        "for feature in NaN_features:\n",
        "    plt.figure(figsize=(5,5))\n",
        "    plt.subplot(1,3,1)\n",
        "    #sns.distplot(df_train[feature], color='red')\n",
        "    sns.histplot(x = df_train[feature].dropna(), kde = True, color='red', bins=50)\n",
        "    plt.subplot(1,3,3)\n",
        "    #plt.hist(df_train[feature], bins=20)\n",
        "    sns.distplot(df_train[feature], bins=10, kde = False)"
      ],
      "metadata": {
        "colab": {
          "base_uri": "https://localhost:8080/",
          "height": 913
        },
        "id": "zPFqGADENXkc",
        "outputId": "420fffad-fe16-45cb-f815-43362b24d327"
      },
      "execution_count": 58,
      "outputs": [
        {
          "output_type": "display_data",
          "data": {
            "text/plain": [
              "<Figure size 500x500 with 2 Axes>"
            ],
            "image/png": "[encoded data removed]"
          },
          "metadata": {}
        },
        {
          "output_type": "display_data",
          "data": {
            "text/plain": [
              "<Figure size 500x500 with 2 Axes>"
            ],
            "image/png": "[encoded data removed]"
          },
          "metadata": {}
        }
      ]
    },
    {
      "cell_type": "code",
      "source": [],
      "metadata": {
        "id": "ad34nlVUNXn3"
      },
      "execution_count": null,
      "outputs": []
    },
    {
      "cell_type": "code",
      "source": [],
      "metadata": {
        "id": "k3EU0PNmNXtM"
      },
      "execution_count": null,
      "outputs": []
    },
    {
      "cell_type": "markdown",
      "metadata": {
        "id": "YAfrGlexAJq0"
      },
      "source": [
        "#### Extracting the predictor continuous features from the training data"
      ]
    },
    {
      "cell_type": "code",
      "execution_count": null,
      "metadata": {
        "id": "uMLuwoDzoJUF"
      },
      "outputs": [],
      "source": [
        "continuous_features = [feature for feature in df_train.select_dtypes(np.number).columns if feature not in ['realSum', 'person_capacity', 'multi', 'biz', 'cleanliness_rating', 'guest_satisfaction_overall', 'bedrooms']]"
      ]
    },
    {
      "cell_type": "code",
      "execution_count": null,
      "metadata": {
        "id": "wPKnvxYKn8w4"
      },
      "outputs": [],
      "source": [
        "continuous_features"
      ]
    },
    {
      "cell_type": "markdown",
      "metadata": {
        "id": "unLXWwqXAJq1"
      },
      "source": [
        "#### Plotting Boxplot and Q-Q plot to identify Univariate outliers"
      ]
    },
    {
      "cell_type": "code",
      "execution_count": null,
      "metadata": {
        "id": "z_4S8LFQn8y9"
      },
      "outputs": [],
      "source": [
        "import scipy.stats as stat\n",
        "import pylab"
      ]
    },
    {
      "cell_type": "code",
      "execution_count": null,
      "metadata": {
        "id": "eupvekv8n81K"
      },
      "outputs": [],
      "source": [
        "def create_boxplots(dataset, feature_list):\n",
        "    for feature in feature_list:\n",
        "      plt.figure(figsize=(5,5))\n",
        "      plt.ticklabel_format(style='plain')\n",
        "      plt.suptitle(\"Boxplot and Q-Q plot of \" + feature, fontweight=\"bold\", fontsize=15)\n",
        "      #dataset.boxplot(column=feature)\n",
        "      plt.subplot(2,3,1)\n",
        "      sns.boxplot(y=feature, data=dataset, color='orange')\n",
        "      #plt.ylabel(feature)\n",
        "      #plt.title(feature)\n",
        "      plt.subplot(2,3,3)\n",
        "      stat.probplot(dataset[feature], dist='norm', plot=pylab)\n",
        "      plt.show()"
      ]
    },
    {
      "cell_type": "code",
      "execution_count": null,
      "metadata": {
        "id": "m7hBOUSzn83Q"
      },
      "outputs": [],
      "source": [
        "create_boxplots(df_train, continuous_features)"
      ]
    },
    {
      "cell_type": "markdown",
      "metadata": {
        "id": "-cRiG6iPAJq1"
      },
      "source": [
        "Defining function to remove the univariate outliers"
      ]
    },
    {
      "cell_type": "code",
      "execution_count": null,
      "metadata": {
        "id": "KYBH-26Znsy4"
      },
      "outputs": [],
      "source": [
        "def remove_outliers(dataset, list_of_features):\n",
        "    for feature in list_of_features:\n",
        "        IQR = dataset[feature].quantile(0.75)-dataset[feature].quantile(0.25)\n",
        "        lower_bridge = dataset[feature].quantile(0.25) - IQR*(1.5)\n",
        "        #print(feature, lower_bridge)\n",
        "        upper_bridge = dataset[feature].quantile(0.75) + IQR*(1.5)\n",
        "        #print(feature, upper_bridge)\n",
        "        if lower_bridge != upper_bridge:\n",
        "          dataset.loc[dataset[feature] >= upper_bridge, feature] = upper_bridge\n",
        "          dataset.loc[dataset[feature] <= lower_bridge, feature] = lower_bridge\n",
        "        else:\n",
        "          lower_bridge = dataset[feature].quantile(0.25)/2\n",
        "          upper_bridge = dataset[feature].quantile(0.75) * 2\n",
        "          dataset.loc[dataset[feature] >= upper_bridge, feature] = upper_bridge\n",
        "          dataset.loc[dataset[feature] <= lower_bridge, feature] = lower_bridge"
      ]
    },
    {
      "cell_type": "code",
      "execution_count": null,
      "metadata": {
        "id": "BtMsujK8sAxs"
      },
      "outputs": [],
      "source": [
        "remove_outliers(df_train, continuous_features)"
      ]
    },
    {
      "cell_type": "code",
      "execution_count": null,
      "metadata": {
        "id": "7uK6oqYqsAzz"
      },
      "outputs": [],
      "source": [
        "create_boxplots(df_train, continuous_features)"
      ]
    },
    {
      "cell_type": "markdown",
      "metadata": {
        "id": "g-znBfLNAJq2"
      },
      "source": [
        "The univariate outliers have been treated"
      ]
    },
    {
      "cell_type": "markdown",
      "metadata": {
        "id": "mBR_8dXyAJq3"
      },
      "source": [
        "#### Plotting histograms and distplots to check the distributions of continuous variables"
      ]
    },
    {
      "cell_type": "code",
      "execution_count": null,
      "metadata": {
        "id": "ZUPd7iTKsA13"
      },
      "outputs": [],
      "source": [
        "def create_histograms_distplots(dataset, feature_list):\n",
        "    for feature in feature_list:\n",
        "        plt.figure(figsize=(10,10))\n",
        "        plt.suptitle(\"Histogram and Q-Q plot of variable \" + feature, fontweight=\"bold\", fontsize=15)\n",
        "        plt.subplot(3,5,1)\n",
        "        plt.ticklabel_format(style='plain')\n",
        "        #plt.hist(dataset[feature].dropna())\n",
        "        sns.histplot(x = dataset[feature].dropna(), kde = True)\n",
        "        plt.title(feature)\n",
        "        plt.subplot(3,5,3)\n",
        "        plt.ticklabel_format(style='plain')\n",
        "        sns.distplot(dataset[feature])\n",
        "        plt.ylabel('Count/Frequency')\n",
        "        plt.subplot(3,5,5)\n",
        "        stat.probplot(dataset[feature], dist='norm', plot=pylab)\n",
        "        plt.show()"
      ]
    },
    {
      "cell_type": "code",
      "execution_count": null,
      "metadata": {
        "id": "ZqEqmm3bsBYi"
      },
      "outputs": [],
      "source": [
        "create_histograms_distplots(df_train, continuous_features)"
      ]
    },
    {
      "cell_type": "markdown",
      "metadata": {
        "id": "LIGXycfiAJq3"
      },
      "source": [
        "From the above plots, it can observed that the features are skewed"
      ]
    },
    {
      "cell_type": "markdown",
      "metadata": {
        "id": "0Gqxg1VuAJq3"
      },
      "source": [
        "#### Performing transformation to remove skeweness"
      ]
    },
    {
      "cell_type": "code",
      "execution_count": null,
      "metadata": {
        "id": "vJI_PkItGp5o"
      },
      "outputs": [],
      "source": [
        "from scipy.stats import skew"
      ]
    },
    {
      "cell_type": "code",
      "execution_count": null,
      "metadata": {
        "id": "XYHyMXfSGknz"
      },
      "outputs": [],
      "source": [
        "def skewness_score(dataset, feature_list):\n",
        "    variables = []\n",
        "    skew_scores = []\n",
        "    square_root_transformed_skew_scores = []\n",
        "    log_transformed_skew_scores = []\n",
        "    #exp_transformed_skew_scores = []\n",
        "    #boxcox_transformed_skew_scores = []\n",
        "    for feature in feature_list:\n",
        "      column_name_square_root = ''\n",
        "      column_name_log = ''\n",
        "      variables.append(feature)\n",
        "      skew_scores.append(skew(dataset[feature]))\n",
        "      #print(feature, skew(dataset[feature]))\n",
        "      if (float(skew(dataset[feature])) >= 0.5) | (float(skew(dataset[feature])) <= -0.5): \n",
        "        if dataset[feature].min() > 0:\n",
        "          #column_name_square_root = f'{str(feature)} square root transformed'\n",
        "          #dataset[column_name_square_root] = np.sqrt(dataset[feature])\n",
        "          dataset[feature] = np.sqrt(dataset[feature])\n",
        "          #column_name_log = f'{str(feature)} log transformed'\n",
        "          #dataset[column_name_log] = np.log(dataset[feature])\n",
        "          #dataset[feature] = np.log(dataset[feature])\n",
        "          #square_root_transformed_skew_scores.append(skew(dataset[column_name_square_root]))\n",
        "          square_root_transformed_skew_scores.append(skew(dataset[feature]))\n",
        "          #log_transformed_skew_scores.append(skew(dataset[column_name_log]))\n",
        "          #log_transformed_skew_scores.append(skew(dataset[feature]))\n",
        "        else:\n",
        "          square_root_transformed_skew_scores.append('Not transformed')\n",
        "          #log_transformed_skew_scores.append('Not transformed')\n",
        "        #column_name_exp = f'{str(feature)} exp transformed'\n",
        "        #dataset[feature] = np.exp(dataset[feature])\n",
        "        #exp_transformed_skew_scores.append(skew(dataset[feature]))\n",
        "        #boxcox_transformed_skew_scores.append(skew(dataset[column_name_exp]))\n",
        "      else:\n",
        "        #pass\n",
        "        square_root_transformed_skew_scores.append('Not transformed')\n",
        "        #log_transformed_skew_scores.append('Not transformed')\n",
        "        #exp_transformed_skew_scores.append('Not transformed')\n",
        "        #boxcox_transformed_skew_scores.append('Not transformed')\n",
        "    #print(len(variables))\n",
        "    #print(len(skew_scores))\n",
        "    #print(len(square_root_transformed_skew_scores))\n",
        "    #print(len(log_transformed_skew_scores))\n",
        "    #print(skew_scores)\n",
        "    #skew_dict = {'Feature': variables, 'Skewness Score before transformation': skew_scores, 'Skewness score after square root transformation of skewed features': square_root_transformed_skew_scores, 'Skewness score after log transformation of skewed features': log_transformed_skew_scores, 'Skewness score after exponential transformation of skewed features': exp_transformed_skew_scores, 'Skewness score after boxcox transformation of skewed features': boxcox_transformed_skew_scores}\n",
        "    #skew_dict = {'Feature': variables, 'Skewness Score before transformation': skew_scores, 'Skewness score after square root transformation of skewed features': square_root_transformed_skew_scores, 'Skewness score after log transformation of skewed features': log_transformed_skew_scores, 'Skewness score after exponential transformation of skewed features': exp_transformed_skew_scores}\n",
        "    #skew_dict = {'Feature': variables, 'Skewness Score before transformation': skew_scores, 'Skewness score after exponential transformation of skewed features': exp_transformed_skew_scores}\n",
        "    #skew_dict = {'Feature': variables, 'Skewness Score before transformation': skew_scores, 'Skewness score after square root transformation of skewed features': square_root_transformed_skew_scores, 'Skewness score after log transformation of skewed features': log_transformed_skew_scores}\n",
        "    skew_dict = {'Feature': variables, 'Skewness Score before transformation': skew_scores, 'Skewness score after square root transformation of skewed features': square_root_transformed_skew_scores}\n",
        "    skewness_score = pd.DataFrame(skew_dict)\n",
        "    return skewness_score"
      ]
    },
    {
      "cell_type": "code",
      "execution_count": null,
      "metadata": {
        "id": "OdMXc7XnGkp9"
      },
      "outputs": [],
      "source": [
        "skewness_score(df_train, continuous_features)"
      ]
    },
    {
      "cell_type": "code",
      "execution_count": null,
      "metadata": {
        "id": "YAILc6WEGksW"
      },
      "outputs": [],
      "source": [
        "create_histograms_distplots(df_train, continuous_features)"
      ]
    },
    {
      "cell_type": "markdown",
      "metadata": {
        "id": "V2AzTadaAJq5"
      },
      "source": [
        "The skewness has been handled using **square root transformation**"
      ]
    },
    {
      "cell_type": "markdown",
      "metadata": {
        "id": "XnSCqIT8AJq5"
      },
      "source": [
        "#### Plotting relplot"
      ]
    },
    {
      "cell_type": "code",
      "execution_count": null,
      "metadata": {
        "id": "tQpb4ka-Gkuf"
      },
      "outputs": [],
      "source": [
        "def create_relplot(dataset, list_of_features, target):\n",
        "    for feature in list_of_features:\n",
        "        for bivariate_feature in list_of_features:\n",
        "            if bivariate_feature != feature:\n",
        "                plt.figure(figsize=(7,7))\n",
        "                sns.relplot(x=feature, y=bivariate_feature, data=dataset, hue=target)\n",
        "                plt.show()"
      ]
    },
    {
      "cell_type": "code",
      "execution_count": null,
      "metadata": {
        "id": "yeG-93l0Gkw-"
      },
      "outputs": [],
      "source": [
        "create_relplot(df_train, continuous_features[:3], 'realSum')"
      ]
    },
    {
      "cell_type": "code",
      "execution_count": null,
      "metadata": {
        "id": "lt4Y1LBAKWax"
      },
      "outputs": [],
      "source": [
        "df_train.info()"
      ]
    },
    {
      "cell_type": "code",
      "execution_count": null,
      "metadata": {
        "id": "teb_dvfVKJGw"
      },
      "outputs": [],
      "source": [
        "pd.pivot_table(df_train, index='room_type', values=continuous_features, aggfunc=['median'])"
      ]
    },
    {
      "cell_type": "code",
      "execution_count": null,
      "metadata": {
        "id": "DY7hFglkKJJF"
      },
      "outputs": [],
      "source": [
        "pd.pivot_table(df_train, index='room_shared', values=continuous_features, aggfunc=['median'])"
      ]
    },
    {
      "cell_type": "code",
      "execution_count": null,
      "metadata": {
        "id": "72yGWtcHKJLy"
      },
      "outputs": [],
      "source": [
        "pd.pivot_table(df_train, index='room_private', values=continuous_features, aggfunc=['median'])"
      ]
    },
    {
      "cell_type": "code",
      "execution_count": null,
      "metadata": {
        "id": "6TbdiEwsKJOO"
      },
      "outputs": [],
      "source": [
        "pd.pivot_table(df_train, index='host_is_superhost', values=continuous_features, aggfunc=['median'])"
      ]
    },
    {
      "cell_type": "code",
      "execution_count": null,
      "metadata": {
        "id": "3eRjPHNqKSZd"
      },
      "outputs": [],
      "source": [
        "pd.pivot_table(df_train, index='multi', values=continuous_features, aggfunc=['median'])"
      ]
    },
    {
      "cell_type": "code",
      "execution_count": null,
      "metadata": {
        "id": "h79gcQLNKSdA"
      },
      "outputs": [],
      "source": [
        "pd.pivot_table(df_train, index='biz', values=continuous_features, aggfunc=['median'])"
      ]
    },
    {
      "cell_type": "code",
      "execution_count": null,
      "metadata": {
        "id": "mH8shIa7KShe"
      },
      "outputs": [],
      "source": [
        "pd.pivot_table(df_train, index='city', values=continuous_features, aggfunc=['median'])"
      ]
    },
    {
      "cell_type": "code",
      "execution_count": null,
      "metadata": {
        "id": "P4kFoYpwKSl_"
      },
      "outputs": [],
      "source": [
        "pd.pivot_table(df_train, index='day', values=continuous_features, aggfunc=['median'])"
      ]
    },
    {
      "cell_type": "code",
      "execution_count": null,
      "metadata": {
        "id": "bh19DEOXKYNO"
      },
      "outputs": [],
      "source": [
        "df_train.groupby(['city', 'day'])[['day']].count().sort_values(['city']).rename(columns={'day':'Count'})"
      ]
    },
    {
      "cell_type": "code",
      "execution_count": null,
      "metadata": {
        "id": "FW7Xrxq2KYRK"
      },
      "outputs": [],
      "source": [
        "df_train.groupby(['city', 'room_type'])[['room_type']].count().sort_values(['city']).rename(columns={'room_type':'Count'})"
      ]
    },
    {
      "cell_type": "code",
      "execution_count": null,
      "metadata": {
        "id": "Z-u2uWZcKYU-"
      },
      "outputs": [],
      "source": [
        "df_train.groupby(['city', 'biz'])[['biz']].count().sort_values(['city']).rename(columns={'biz':'Count'})"
      ]
    },
    {
      "cell_type": "code",
      "execution_count": null,
      "metadata": {
        "id": "FShcDUArKYYV"
      },
      "outputs": [],
      "source": [
        "df_train.groupby(['room_type', 'room_shared'])[['room_shared']].count().sort_values(['room_type']).rename(columns={'room_shared':'Count'})"
      ]
    },
    {
      "cell_type": "code",
      "execution_count": null,
      "metadata": {
        "id": "w7L2rqgQKSpV"
      },
      "outputs": [],
      "source": [
        "df_train.groupby(['room_type', 'room_private'])[['room_private']].count().sort_values(['room_type']).rename(columns={'room_private':'Count'})"
      ]
    },
    {
      "cell_type": "markdown",
      "metadata": {
        "id": "0Z5UyMkB5AqH"
      },
      "source": [
        "It can be observed that **room_shared** is True for all **Shared rooms**. So we can drop **room_shared** column\n",
        "\n",
        "It can be observed that **room_private** is True for all **Private rooms**. So we can drop **room_private** column"
      ]
    },
    {
      "cell_type": "code",
      "execution_count": null,
      "metadata": {
        "id": "q8goQCRZKfUn"
      },
      "outputs": [],
      "source": [
        "df_train = df_train.drop(['room_private', 'room_shared'], axis = 1)"
      ]
    },
    {
      "cell_type": "markdown",
      "metadata": {
        "id": "CQkwgW1eK5v3"
      },
      "source": [
        "#### Extracting the categorical features"
      ]
    },
    {
      "cell_type": "code",
      "execution_count": null,
      "metadata": {
        "id": "Djxny-pgK54Y"
      },
      "outputs": [],
      "source": [
        "categorical_features = [feature for feature in df_train.columns if feature not in continuous_features and feature != 'realSum']"
      ]
    },
    {
      "cell_type": "code",
      "execution_count": null,
      "metadata": {
        "id": "r0G627HOK57G"
      },
      "outputs": [],
      "source": [
        "categorical_features"
      ]
    },
    {
      "cell_type": "markdown",
      "metadata": {
        "id": "2X7149ZAAXu1"
      },
      "source": [
        "Checking the unique values in the categorical columns"
      ]
    },
    {
      "cell_type": "code",
      "execution_count": null,
      "metadata": {
        "id": "RI7vEfCymf7m"
      },
      "outputs": [],
      "source": [
        "df_train[categorical_features].nunique()"
      ]
    },
    {
      "cell_type": "code",
      "execution_count": null,
      "metadata": {
        "id": "Bf7aNz4Umf99"
      },
      "outputs": [],
      "source": [
        "for feature in categorical_features:\n",
        "  plt.figure(figsize=(5,5))\n",
        "  df_train.groupby(feature)['realSum'].median().plot()\n",
        "  plt.xlabel(feature)\n",
        "  plt.ylabel('Median Price')\n",
        "  plt.title(f'{feature} vs Median Price')\n",
        "  plt.show()"
      ]
    },
    {
      "cell_type": "markdown",
      "metadata": {
        "id": "AITK5xoLAhlb"
      },
      "source": [
        "From the above plots, the following conclusions can be made:\n",
        "\n",
        " - The median price is higher for **Entire home/apt** as compared to **private** and **shared** room\n",
        "\n",
        " - As the **person_capacity** increases, the median price increases\n",
        "\n",
        " - The median price is high if the host is not a **super host**\n",
        "\n",
        " - The median price is high for listings with non multiple rooms **multi=0**\n",
        "\n",
        " - The median price is high for listings meant for business purpose **biz=1**\n",
        "\n",
        " - The median price is highest for **cleanliness_rating = 4** and lowest for **cleanliness_rating = 5**\n",
        "\n",
        " - The median price is highest for **guest_satisfaction_overall = 50** and lowest for **cleanliness_rating = 60**\n",
        "\n",
        " - The median price is highest when **bedrooms = 6**\n",
        "\n",
        " - The median price is highest for **Amsterdam**\n",
        "\n",
        " - The median price is high during **weekdays** than during **weekends**"
      ]
    },
    {
      "cell_type": "code",
      "execution_count": null,
      "metadata": {
        "id": "fuhzN4NVmgAg"
      },
      "outputs": [],
      "source": [
        "for feature in categorical_features:\n",
        "  plt.figure(figsize=(4,4))\n",
        "  sns.jointplot(y='realSum', x=feature, data=df_train)\n",
        "  plt.xlabel(feature)\n",
        "  plt.ylabel('Price')\n",
        "  plt.title(f'{feature} vs Price')\n",
        "  plt.show()"
      ]
    },
    {
      "cell_type": "code",
      "execution_count": null,
      "metadata": {
        "id": "vw1l81OZmnwy"
      },
      "outputs": [],
      "source": [
        "for feature in categorical_features:\n",
        "  df_train.groupby(feature)['realSum'].median().plot(kind='bar')\n",
        "  plt.xlabel(feature)\n",
        "  plt.ylabel('Price')\n",
        "  plt.show()"
      ]
    },
    {
      "cell_type": "code",
      "execution_count": null,
      "metadata": {
        "id": "cqSjWR2zmn0x"
      },
      "outputs": [],
      "source": [
        "for feature in categorical_features:\n",
        "    #print('Unique categories in the feature', feature, ': ', df_train[feature].nunique(), 'labels')\n",
        "    if df_train[feature].nunique() <= 12:\n",
        "      #print(df_train[feature].value_counts())\n",
        "      plt.figure(figsize=(5,5))\n",
        "      ax = sns.countplot(x=feature, data=df_train)\n",
        "      for p in ax.patches:\n",
        "        ax.annotate('{:.1f}'.format(p.get_height()), (p.get_x()+0.2, p.get_height()+50))\n",
        "      sns.catplot(x=feature, y='realSum', data=df_train, hue='guest_satisfaction_overall')\n",
        "      plt.show()"
      ]
    },
    {
      "cell_type": "markdown",
      "metadata": {
        "id": "3WOJIwxH5AqO"
      },
      "source": [
        "Label encoding of **room_type**"
      ]
    },
    {
      "cell_type": "code",
      "execution_count": null,
      "metadata": {
        "id": "bdltShDp4ah5"
      },
      "outputs": [],
      "source": [
        "df_train['room_type'].value_counts()"
      ]
    },
    {
      "cell_type": "code",
      "execution_count": null,
      "metadata": {
        "id": "INW59Bqy4aj3"
      },
      "outputs": [],
      "source": [
        "from sklearn.preprocessing import LabelEncoder"
      ]
    },
    {
      "cell_type": "code",
      "execution_count": null,
      "metadata": {
        "id": "fCoDzPjD4amV"
      },
      "outputs": [],
      "source": [
        "label_room_type = LabelEncoder()"
      ]
    },
    {
      "cell_type": "code",
      "execution_count": null,
      "metadata": {
        "id": "CBAACuE34aou"
      },
      "outputs": [],
      "source": [
        "df_train['room_type'] = label_room_type.fit_transform(df_train['room_type'])"
      ]
    },
    {
      "cell_type": "code",
      "execution_count": null,
      "metadata": {
        "id": "gcsBJcRt4aq0"
      },
      "outputs": [],
      "source": [
        "df_train['room_type'].value_counts()"
      ]
    },
    {
      "cell_type": "markdown",
      "metadata": {
        "id": "uukyP-v-5AqQ"
      },
      "source": [
        "One hot encoding of categorical and boolean features"
      ]
    },
    {
      "cell_type": "code",
      "execution_count": null,
      "metadata": {
        "id": "96UrLRY84asd"
      },
      "outputs": [],
      "source": [
        "categorical_object_features = [feature for feature in df_train.select_dtypes(np.object).columns]"
      ]
    },
    {
      "cell_type": "code",
      "execution_count": null,
      "metadata": {
        "id": "Ix0YO6qP4kDI"
      },
      "outputs": [],
      "source": [
        "categorical_object_features"
      ]
    },
    {
      "cell_type": "code",
      "execution_count": null,
      "metadata": {
        "id": "DByTeqVI4kFL"
      },
      "outputs": [],
      "source": [
        "df_train = pd.get_dummies(df_train, drop_first=True)"
      ]
    },
    {
      "cell_type": "code",
      "execution_count": null,
      "metadata": {
        "id": "VU9iT9VF4kHd"
      },
      "outputs": [],
      "source": [
        "categorical_bool_features = [feature for feature in df_train.select_dtypes(np.bool).columns]"
      ]
    },
    {
      "cell_type": "code",
      "execution_count": null,
      "metadata": {
        "id": "L_WrcjLc4qco"
      },
      "outputs": [],
      "source": [
        "categorical_bool_features"
      ]
    },
    {
      "cell_type": "code",
      "execution_count": null,
      "metadata": {
        "id": "WuJvBNG34qem"
      },
      "outputs": [],
      "source": [
        "for feature in categorical_bool_features:\n",
        "  df_train[feature] = np.where(df_train[feature] == True, 1, 0)"
      ]
    },
    {
      "cell_type": "code",
      "execution_count": null,
      "metadata": {
        "id": "PiD387P04kJj"
      },
      "outputs": [],
      "source": [
        "df_train.columns"
      ]
    },
    {
      "cell_type": "markdown",
      "metadata": {
        "id": "W1s9qiB85AqS"
      },
      "source": [
        "Rearranging the position of columns of the training dataframe"
      ]
    },
    {
      "cell_type": "code",
      "execution_count": null,
      "metadata": {
        "id": "jOP-wzcAdmX3"
      },
      "outputs": [],
      "source": [
        "df_train = df_train[['room_type', 'person_capacity',\n",
        "       'host_is_superhost', 'multi', 'biz', 'cleanliness_rating',\n",
        "       'guest_satisfaction_overall', 'bedrooms', 'dist', 'metro_dist',\n",
        "       'attr_index', 'attr_index_norm', 'rest_index', 'rest_index_norm', 'lng',\n",
        "       'lat', 'city_athens', 'city_barcelona', 'city_berlin',\n",
        "       'city_budapest', 'city_lisbon', 'city_london', 'city_paris',\n",
        "       'city_rome', 'city_vienna', 'day_weekend', 'realSum']]"
      ]
    },
    {
      "cell_type": "code",
      "execution_count": null,
      "metadata": {
        "id": "IIUGmOwJdma6"
      },
      "outputs": [],
      "source": [
        "df_train.columns"
      ]
    },
    {
      "cell_type": "markdown",
      "metadata": {
        "id": "FnwXBVpp5AqS"
      },
      "source": [
        "## Feature Scaling"
      ]
    },
    {
      "cell_type": "code",
      "execution_count": null,
      "metadata": {
        "id": "-Tg5vUkhdpl6"
      },
      "outputs": [],
      "source": [
        "from sklearn.preprocessing import StandardScaler"
      ]
    },
    {
      "cell_type": "code",
      "execution_count": null,
      "metadata": {
        "id": "EzEepIygdpoy"
      },
      "outputs": [],
      "source": [
        "#Instantiating StandardScaler\n",
        "sc = StandardScaler()"
      ]
    },
    {
      "cell_type": "code",
      "execution_count": null,
      "metadata": {
        "id": "u10M1uvddprX"
      },
      "outputs": [],
      "source": [
        "X_train = df_train[continuous_features]"
      ]
    },
    {
      "cell_type": "code",
      "execution_count": null,
      "metadata": {
        "id": "VtJN282qdptO"
      },
      "outputs": [],
      "source": [
        "X_train.head()"
      ]
    },
    {
      "cell_type": "code",
      "execution_count": null,
      "metadata": {
        "id": "zSm1sgoxdpvw"
      },
      "outputs": [],
      "source": [
        "non_continuous_predictor_features = [feature for feature in df_train.columns if feature not in continuous_features and feature != 'realSum']"
      ]
    },
    {
      "cell_type": "code",
      "execution_count": null,
      "metadata": {
        "id": "lJYcw6DddvzC"
      },
      "outputs": [],
      "source": [
        "Y_train = df_train[non_continuous_predictor_features]"
      ]
    },
    {
      "cell_type": "code",
      "execution_count": null,
      "metadata": {
        "id": "jjFkV94hdv2P"
      },
      "outputs": [],
      "source": [
        "Y_train.head()"
      ]
    },
    {
      "cell_type": "code",
      "execution_count": null,
      "metadata": {
        "id": "dXTfmto4dmd_"
      },
      "outputs": [],
      "source": [
        "Y = df_train.loc[:, 'realSum']"
      ]
    },
    {
      "cell_type": "code",
      "execution_count": null,
      "metadata": {
        "id": "qNCZ6JlHdzJc"
      },
      "outputs": [],
      "source": [
        "#Fitting the dataframe X_train onto the standard scaler\n",
        "df_train_continuous_features_transformed = sc.fit_transform(X_train)"
      ]
    },
    {
      "cell_type": "code",
      "execution_count": null,
      "metadata": {
        "id": "1nOsm_kNdzLr"
      },
      "outputs": [],
      "source": [
        "df_train_continuous_features_transformed"
      ]
    },
    {
      "cell_type": "code",
      "execution_count": null,
      "metadata": {
        "id": "kzpopS9UdzN0"
      },
      "outputs": [],
      "source": [
        "X_train_scaled = pd.DataFrame(df_train_continuous_features_transformed, columns=X_train.columns)"
      ]
    },
    {
      "cell_type": "code",
      "execution_count": null,
      "metadata": {
        "id": "ApS9PRX-d24U"
      },
      "outputs": [],
      "source": [
        "X_train_scaled.head()"
      ]
    },
    {
      "cell_type": "code",
      "execution_count": null,
      "metadata": {
        "id": "VMlyAVuKd27E"
      },
      "outputs": [],
      "source": [
        "X = pd.concat([X_train_scaled, Y_train], axis=1)"
      ]
    },
    {
      "cell_type": "code",
      "execution_count": null,
      "metadata": {
        "id": "iihTKh-6d29A"
      },
      "outputs": [],
      "source": [
        "X.head()"
      ]
    },
    {
      "cell_type": "markdown",
      "metadata": {
        "id": "nBdV4Rkw5AqX"
      },
      "source": [
        "## Feature Selection and Feature Importance"
      ]
    },
    {
      "cell_type": "code",
      "execution_count": null,
      "metadata": {
        "id": "r40trlizdzRD"
      },
      "outputs": [],
      "source": [
        "from sklearn.ensemble import ExtraTreesRegressor"
      ]
    },
    {
      "cell_type": "code",
      "execution_count": null,
      "metadata": {
        "id": "s7Gv47hneMDs"
      },
      "outputs": [],
      "source": [
        "model = ExtraTreesRegressor()"
      ]
    },
    {
      "cell_type": "code",
      "execution_count": null,
      "metadata": {
        "id": "aAjucsNgeMIa"
      },
      "outputs": [],
      "source": [
        "model.fit(X,Y)"
      ]
    },
    {
      "cell_type": "code",
      "execution_count": null,
      "metadata": {
        "id": "D7M-dkkgeMLg"
      },
      "outputs": [],
      "source": [
        "feat_importances = pd.Series(model.feature_importances_, index = X.columns).sort_values(ascending = False)"
      ]
    },
    {
      "cell_type": "code",
      "execution_count": null,
      "metadata": {
        "id": "6DN4AoFWdmhD"
      },
      "outputs": [],
      "source": [
        "plt.figure(figsize=(4,4))\n",
        "feat_importances.plot(kind='barh')\n",
        "plt.show()"
      ]
    },
    {
      "cell_type": "code",
      "execution_count": null,
      "metadata": {
        "id": "FTuHeRBXLa-M"
      },
      "outputs": [],
      "source": [
        "from sklearn.feature_selection import VarianceThreshold"
      ]
    },
    {
      "cell_type": "code",
      "execution_count": null,
      "metadata": {
        "id": "bzvBhG_qLbBN"
      },
      "outputs": [],
      "source": [
        "var_thres = VarianceThreshold(threshold=0)"
      ]
    },
    {
      "cell_type": "code",
      "execution_count": null,
      "metadata": {
        "id": "aRWHDDUPLbEO"
      },
      "outputs": [],
      "source": [
        "X_train_variance, X_test_variance, y_train_variance, y_test_variance = train_test_split(X, Y, test_size = 0.15, random_state = 42, shuffle=True)"
      ]
    },
    {
      "cell_type": "code",
      "execution_count": null,
      "metadata": {
        "id": "AfKGkvmzLf2Q"
      },
      "outputs": [],
      "source": [
        "var_thres.fit(X_train_variance)"
      ]
    },
    {
      "cell_type": "code",
      "execution_count": null,
      "metadata": {
        "id": "QsqYxONKLf6j"
      },
      "outputs": [],
      "source": [
        "sum(var_thres.get_support())"
      ]
    },
    {
      "cell_type": "code",
      "execution_count": null,
      "metadata": {
        "id": "pDbngJCBLf-H"
      },
      "outputs": [],
      "source": [
        "var_thres.get_support()"
      ]
    },
    {
      "cell_type": "code",
      "execution_count": null,
      "metadata": {
        "id": "VajHVaUJLgAj"
      },
      "outputs": [],
      "source": [
        "constant_columns = [column for column in X.columns if column not in X.columns[var_thres.get_support()]]"
      ]
    },
    {
      "cell_type": "code",
      "execution_count": null,
      "metadata": {
        "id": "GvxlynVLLbHP"
      },
      "outputs": [],
      "source": [
        "print(constant_columns)"
      ]
    },
    {
      "cell_type": "code",
      "execution_count": null,
      "metadata": {
        "id": "sGC2chANLl4N"
      },
      "outputs": [],
      "source": [
        "X.columns"
      ]
    },
    {
      "cell_type": "code",
      "execution_count": null,
      "metadata": {
        "id": "1js8ss-vLl6n"
      },
      "outputs": [],
      "source": [
        "for feature in constant_columns:\n",
        "  X = X.drop([feature], axis = 1)"
      ]
    },
    {
      "cell_type": "code",
      "execution_count": null,
      "metadata": {
        "id": "xu8Pmf18Lpif"
      },
      "outputs": [],
      "source": [
        "from sklearn.feature_selection import SelectFromModel\n",
        "from sklearn.linear_model import Lasso"
      ]
    },
    {
      "cell_type": "code",
      "execution_count": null,
      "metadata": {
        "id": "HYYOnO8wLpk9"
      },
      "outputs": [],
      "source": [
        "feature_sel_model = SelectFromModel(Lasso(alpha=0.005, random_state=0))"
      ]
    },
    {
      "cell_type": "code",
      "execution_count": null,
      "metadata": {
        "id": "_0uwub29LtZv"
      },
      "outputs": [],
      "source": [
        "feature_sel_model.fit(X, Y)"
      ]
    },
    {
      "cell_type": "code",
      "execution_count": null,
      "metadata": {
        "id": "LyHy1iocLtcH"
      },
      "outputs": [],
      "source": [
        "feature_sel_model.get_support()"
      ]
    },
    {
      "cell_type": "code",
      "execution_count": null,
      "metadata": {
        "id": "IG7YbYo4Lten"
      },
      "outputs": [],
      "source": [
        "selected_feat = X.columns[(feature_sel_model.get_support())]"
      ]
    },
    {
      "cell_type": "code",
      "execution_count": null,
      "metadata": {
        "id": "pKis4XjWLpnd"
      },
      "outputs": [],
      "source": [
        "selected_feat"
      ]
    },
    {
      "cell_type": "code",
      "execution_count": null,
      "metadata": {
        "id": "ewhi0kNoLl88"
      },
      "outputs": [],
      "source": [
        "X.columns"
      ]
    },
    {
      "cell_type": "code",
      "execution_count": null,
      "metadata": {
        "id": "3zrK0HulLznN"
      },
      "outputs": [],
      "source": [
        "df_train = X.join(Y, how='inner')"
      ]
    },
    {
      "cell_type": "code",
      "source": [
        "plt.figure(figsize=(9,9))\n",
        "sns.heatmap(df_train[continuous_features].corr(), annot=True, cmap=\"RdYlGn\")"
      ],
      "metadata": {
        "id": "ZBkhMRwS5Kmf"
      },
      "execution_count": null,
      "outputs": []
    },
    {
      "cell_type": "code",
      "source": [
        "df_train = df_train.drop(['city_athens', 'city_barcelona', 'city_berlin', 'city_budapest', 'city_lisbon', 'city_london', 'city_paris', 'city_rome', 'city_vienna'], axis=1)"
      ],
      "metadata": {
        "id": "Wm_Nz_0W5Kov"
      },
      "execution_count": null,
      "outputs": []
    },
    {
      "cell_type": "markdown",
      "source": [
        "# Data Preprocessing of the test data"
      ],
      "metadata": {
        "id": "bw6g0Div5XOe"
      }
    },
    {
      "cell_type": "code",
      "source": [
        "df_test.info()"
      ],
      "metadata": {
        "id": "7322ai5C5Kq0"
      },
      "execution_count": null,
      "outputs": []
    },
    {
      "cell_type": "code",
      "source": [
        "remove_outliers(df_test, continuous_features)"
      ],
      "metadata": {
        "id": "OuYYXLdS5KtA"
      },
      "execution_count": null,
      "outputs": []
    },
    {
      "cell_type": "code",
      "source": [
        "skewness_score(df_test, continuous_features)"
      ],
      "metadata": {
        "id": "vb-cz2ZF5Z_8"
      },
      "execution_count": null,
      "outputs": []
    },
    {
      "cell_type": "code",
      "source": [
        "df_test = df_test.drop(['room_private', 'room_shared'], axis = 1)"
      ],
      "metadata": {
        "id": "Ohc90cFi5aCM"
      },
      "execution_count": null,
      "outputs": []
    },
    {
      "cell_type": "code",
      "source": [
        "df_test['room_type'].value_counts()"
      ],
      "metadata": {
        "id": "3Dp4Dy9k5aEy"
      },
      "execution_count": null,
      "outputs": []
    },
    {
      "cell_type": "code",
      "source": [
        "df_test['room_type'] = label_room_type.transform(df_test['room_type'])"
      ],
      "metadata": {
        "id": "_oeiSR_u5dXh"
      },
      "execution_count": null,
      "outputs": []
    },
    {
      "cell_type": "code",
      "source": [
        "df_test['room_type'].value_counts()"
      ],
      "metadata": {
        "id": "8C7rTRfr5dZ0"
      },
      "execution_count": null,
      "outputs": []
    },
    {
      "cell_type": "code",
      "source": [
        "df_test = pd.get_dummies(df_test, drop_first=True)"
      ],
      "metadata": {
        "id": "Zkqpg8Nj5dcJ"
      },
      "execution_count": null,
      "outputs": []
    },
    {
      "cell_type": "code",
      "source": [
        "for feature in categorical_bool_features:\n",
        "  df_test[feature] = np.where(df_test[feature] == True, 1, 0)"
      ],
      "metadata": {
        "id": "lJnJCUmE5aGs"
      },
      "execution_count": null,
      "outputs": []
    },
    {
      "cell_type": "code",
      "source": [
        "df_test = df_test[['room_type', 'person_capacity',\n",
        "       'host_is_superhost', 'multi', 'biz', 'cleanliness_rating',\n",
        "       'guest_satisfaction_overall', 'bedrooms', 'dist', 'metro_dist',\n",
        "       'attr_index', 'attr_index_norm', 'rest_index', 'rest_index_norm', 'lng',\n",
        "       'lat', 'city_athens', 'city_barcelona', 'city_berlin',\n",
        "       'city_budapest', 'city_lisbon', 'city_london', 'city_paris',\n",
        "       'city_rome', 'city_vienna', 'day_weekend', 'realSum']]"
      ],
      "metadata": {
        "id": "gE0TTnfj5hhi"
      },
      "execution_count": null,
      "outputs": []
    },
    {
      "cell_type": "code",
      "source": [
        "X_test = df_test[continuous_features]"
      ],
      "metadata": {
        "id": "g4G6dcCR5hjo"
      },
      "execution_count": null,
      "outputs": []
    },
    {
      "cell_type": "code",
      "source": [
        "Y_test = df_test[non_continuous_predictor_features]"
      ],
      "metadata": {
        "id": "oelSEBc95hmD"
      },
      "execution_count": null,
      "outputs": []
    },
    {
      "cell_type": "code",
      "source": [
        "Y = df_test.loc[:, 'realSum']"
      ],
      "metadata": {
        "id": "F7qHFj1X5k8w"
      },
      "execution_count": null,
      "outputs": []
    },
    {
      "cell_type": "code",
      "source": [
        "#Fitting the dataframe X_train onto the standard scaler\n",
        "df_test_continuous_features_transformed = sc.transform(X_test)"
      ],
      "metadata": {
        "id": "gFPz2rri5k_P"
      },
      "execution_count": null,
      "outputs": []
    },
    {
      "cell_type": "code",
      "source": [
        "X_test_scaled = pd.DataFrame(df_test_continuous_features_transformed, columns=X_test.columns)"
      ],
      "metadata": {
        "id": "4_ZOe8y_5lBX"
      },
      "execution_count": null,
      "outputs": []
    },
    {
      "cell_type": "code",
      "source": [
        "X = pd.concat([X_test_scaled, Y_test], axis=1)"
      ],
      "metadata": {
        "id": "LUY5EQCf5nWI"
      },
      "execution_count": null,
      "outputs": []
    },
    {
      "cell_type": "code",
      "source": [
        "df_test = X.join(Y, how='inner')"
      ],
      "metadata": {
        "id": "3tUM1-QQ5nYp"
      },
      "execution_count": null,
      "outputs": []
    },
    {
      "cell_type": "code",
      "source": [
        "for feature in constant_columns:\n",
        "  df_test = df_test.drop([feature], axis = 1)"
      ],
      "metadata": {
        "id": "VXvo7Z6g5nai"
      },
      "execution_count": null,
      "outputs": []
    },
    {
      "cell_type": "code",
      "source": [
        "df_test = df_test.drop(['city_athens', 'city_barcelona', 'city_berlin', 'city_budapest', 'city_lisbon', 'city_london', 'city_paris', 'city_rome', 'city_vienna'], axis=1)"
      ],
      "metadata": {
        "id": "jisyUZpE5hoC"
      },
      "execution_count": null,
      "outputs": []
    },
    {
      "cell_type": "code",
      "source": [
        "X_train = df_train.drop(columns=[\"realSum\"], axis=1)\n",
        "Y_train = df_train.realSum"
      ],
      "metadata": {
        "id": "GOogJNVN5rPb"
      },
      "execution_count": null,
      "outputs": []
    },
    {
      "cell_type": "code",
      "source": [
        "X_test = df_test.drop(columns=[\"realSum\"], axis=1)\n",
        "Y_test = df_test.realSum"
      ],
      "metadata": {
        "id": "k69IO0UD5rRv"
      },
      "execution_count": null,
      "outputs": []
    },
    {
      "cell_type": "markdown",
      "source": [],
      "metadata": {
        "id": "CNEMeFMj54rJ"
      }
    },
    {
      "cell_type": "markdown",
      "source": [
        "#  Model Building"
      ],
      "metadata": {
        "id": "VFT3fueG54tx"
      }
    },
    {
      "cell_type": "markdown",
      "source": [
        "We will create a Linear Regression model"
      ],
      "metadata": {
        "id": "5kCJ8BW756AC"
      }
    },
    {
      "cell_type": "code",
      "source": [
        "from sklearn.linear_model import LinearRegression, Ridge, Lasso\n",
        "from sklearn.model_selection import cross_val_score"
      ],
      "metadata": {
        "id": "isQPhRgG5rTz"
      },
      "execution_count": null,
      "outputs": []
    },
    {
      "cell_type": "code",
      "source": [
        "regressor = LinearRegression()"
      ],
      "metadata": {
        "id": "C3f-9rqk5z9A"
      },
      "execution_count": null,
      "outputs": []
    },
    {
      "cell_type": "code",
      "source": [
        "cross_val_score(regressor, X_train, Y_train, scoring='neg_mean_squared_error', cv=5)"
      ],
      "metadata": {
        "id": "wdt6WeCP6NcK"
      },
      "execution_count": null,
      "outputs": []
    },
    {
      "cell_type": "code",
      "source": [
        "np.mean(cross_val_score(regressor, X_train, Y_train, scoring='neg_mean_squared_error', cv=5))"
      ],
      "metadata": {
        "id": "KQ-tBpmM6NeP"
      },
      "execution_count": null,
      "outputs": []
    },
    {
      "cell_type": "code",
      "source": [
        "#Fitting the training data on the Linear Regression model\n",
        "regressor.fit(X_train, Y_train)"
      ],
      "metadata": {
        "id": "cd7QFP4z5z_W"
      },
      "execution_count": null,
      "outputs": []
    },
    {
      "cell_type": "code",
      "source": [
        "#Intercept of the best fit line of regression\n",
        "print(\"Intercept : \", regressor.intercept_)"
      ],
      "metadata": {
        "id": "8pfZTREK50Be"
      },
      "execution_count": null,
      "outputs": []
    },
    {
      "cell_type": "code",
      "source": [
        "regressor.coef_"
      ],
      "metadata": {
        "id": "C8t235_n50Di"
      },
      "execution_count": null,
      "outputs": []
    },
    {
      "cell_type": "code",
      "source": [
        "Y_pred_logistic_regression = regressor.predict(X_test)"
      ],
      "metadata": {
        "id": "8RxZKtXx50Fu"
      },
      "execution_count": null,
      "outputs": []
    },
    {
      "cell_type": "code",
      "source": [
        "from sklearn import metrics"
      ],
      "metadata": {
        "id": "ajO0GYQx5rV5"
      },
      "execution_count": null,
      "outputs": []
    },
    {
      "cell_type": "code",
      "source": [
        "print(\"Mean absolute error : \", metrics.mean_absolute_error(Y_test, Y_pred_logistic_regression))\n",
        "print(\"Mean squared error : \", metrics.mean_squared_error(Y_test, Y_pred_logistic_regression))\n",
        "print(\"Root mean squared error : \", np.sqrt(metrics.mean_squared_error(Y_test, Y_pred_logistic_regression)))"
      ],
      "metadata": {
        "id": "b6HmZqj-6A07"
      },
      "execution_count": null,
      "outputs": []
    },
    {
      "cell_type": "code",
      "source": [
        "from sklearn.metrics import r2_score"
      ],
      "metadata": {
        "id": "Q55MJ2ps6A28"
      },
      "execution_count": null,
      "outputs": []
    },
    {
      "cell_type": "code",
      "source": [
        "r2_score(Y_test, Y_pred_logistic_regression)"
      ],
      "metadata": {
        "id": "mW2M8ob56A5N"
      },
      "execution_count": null,
      "outputs": []
    },
    {
      "cell_type": "code",
      "source": [
        "sns.distplot(Y_test-Y_pred_logistic_regression)"
      ],
      "metadata": {
        "id": "xjrrDze-6Ef6"
      },
      "execution_count": null,
      "outputs": []
    },
    {
      "cell_type": "code",
      "source": [
        "plt.scatter(x=X_train['lat'][:20], y=Y_train[:20], color='blue')\n",
        "plt.plot(X_train['lat'][:20], regressor.predict(X_train)[:20], color='red')\n",
        "plt.show()"
      ],
      "metadata": {
        "id": "UMS2mJYc6Eje"
      },
      "execution_count": null,
      "outputs": []
    },
    {
      "cell_type": "code",
      "source": [
        "from sklearn.model_selection import RandomizedSearchCV"
      ],
      "metadata": {
        "id": "llDPY-Be6El6"
      },
      "execution_count": null,
      "outputs": []
    },
    {
      "cell_type": "code",
      "source": [
        "ridge = Ridge()"
      ],
      "metadata": {
        "id": "FCktLqK-6A7P"
      },
      "execution_count": null,
      "outputs": []
    },
    {
      "cell_type": "code",
      "source": [
        "parameters = {'alpha': [1e-15, 1e-10, 1e-8, 1e-3, 1e-2, 1, 5, 10, 20, 30, 35, 40, 45, 50, 55, 100] }"
      ],
      "metadata": {
        "id": "hYJUyqYk6SkB"
      },
      "execution_count": null,
      "outputs": []
    },
    {
      "cell_type": "code",
      "source": [
        "ridge_regressor = RandomizedSearchCV(ridge, parameters, scoring='neg_mean_squared_error', cv=5)"
      ],
      "metadata": {
        "id": "LJajDLFG6SmP"
      },
      "execution_count": null,
      "outputs": []
    },
    {
      "cell_type": "code",
      "source": [
        "ridge_regressor.fit(X_train, Y_train)"
      ],
      "metadata": {
        "id": "_svcbxWe6SoZ"
      },
      "execution_count": null,
      "outputs": []
    },
    {
      "cell_type": "code",
      "source": [
        "print(ridge_regressor.best_params_)"
      ],
      "metadata": {
        "id": "OMQUNay66Sqv"
      },
      "execution_count": null,
      "outputs": []
    },
    {
      "cell_type": "code",
      "source": [
        "print(ridge_regressor.best_score_)"
      ],
      "metadata": {
        "id": "9T-AyOjq6Ss8"
      },
      "execution_count": null,
      "outputs": []
    },
    {
      "cell_type": "code",
      "source": [
        "Y_pred_ridge_regression = ridge_regressor.predict(X_test)"
      ],
      "metadata": {
        "id": "c_OO-F-D6cpK"
      },
      "execution_count": null,
      "outputs": []
    },
    {
      "cell_type": "code",
      "source": [
        "print(\"Mean absolute error : \", metrics.mean_absolute_error(Y_test, Y_pred_ridge_regression))\n",
        "print(\"Mean squared error : \", metrics.mean_squared_error(Y_test, Y_pred_ridge_regression))\n",
        "print(\"Root mean squared error : \", np.sqrt(metrics.mean_squared_error(Y_test, Y_pred_ridge_regression)))"
      ],
      "metadata": {
        "id": "vMIwTDtn6cra"
      },
      "execution_count": null,
      "outputs": []
    },
    {
      "cell_type": "code",
      "source": [
        "r2_score(Y_test, Y_pred_ridge_regression)"
      ],
      "metadata": {
        "id": "fKAZ75WA6ctp"
      },
      "execution_count": null,
      "outputs": []
    },
    {
      "cell_type": "code",
      "source": [
        "lasso = Lasso()"
      ],
      "metadata": {
        "id": "MWwM59C66cvk"
      },
      "execution_count": null,
      "outputs": []
    },
    {
      "cell_type": "code",
      "source": [
        "lasso_regressor = RandomizedSearchCV(lasso, parameters, scoring='neg_mean_squared_error', cv=5)"
      ],
      "metadata": {
        "id": "ZCKBaF_g6hv9"
      },
      "execution_count": null,
      "outputs": []
    },
    {
      "cell_type": "code",
      "source": [
        "lasso_regressor.fit(X_train, Y_train)"
      ],
      "metadata": {
        "id": "d4NtC7eD6hyX"
      },
      "execution_count": null,
      "outputs": []
    },
    {
      "cell_type": "code",
      "source": [
        "print(lasso_regressor.best_params_)"
      ],
      "metadata": {
        "id": "6TzqmmLb6h03"
      },
      "execution_count": null,
      "outputs": []
    },
    {
      "cell_type": "code",
      "source": [
        "print(lasso_regressor.best_score_)"
      ],
      "metadata": {
        "id": "Uwzz2CsW6tB8"
      },
      "execution_count": null,
      "outputs": []
    },
    {
      "cell_type": "code",
      "source": [
        "Y_pred_lasso_regression = lasso_regressor.predict(X_test)"
      ],
      "metadata": {
        "id": "ZgWXADtm6tEQ"
      },
      "execution_count": null,
      "outputs": []
    },
    {
      "cell_type": "code",
      "source": [
        "print(\"Mean absolute error : \", metrics.mean_absolute_error(Y_test, Y_pred_lasso_regression))\n",
        "print(\"Mean squared error : \", metrics.mean_squared_error(Y_test, Y_pred_lasso_regression))\n",
        "print(\"Root mean squared error : \", np.sqrt(metrics.mean_squared_error(Y_test, Y_pred_lasso_regression)))"
      ],
      "metadata": {
        "id": "jj437nIF6tGO"
      },
      "execution_count": null,
      "outputs": []
    },
    {
      "cell_type": "code",
      "source": [
        "r2_score(Y_test, Y_pred_lasso_regression)"
      ],
      "metadata": {
        "id": "MBAPFOjw6xRj"
      },
      "execution_count": null,
      "outputs": []
    },
    {
      "cell_type": "code",
      "source": [
        "from sklearn import svm"
      ],
      "metadata": {
        "id": "938f2olI6xTp"
      },
      "execution_count": null,
      "outputs": []
    },
    {
      "cell_type": "code",
      "source": [
        "svm_regressor = svm.SVR(kernel='rbf')"
      ],
      "metadata": {
        "id": "y9FqqCCZ6xVo"
      },
      "execution_count": null,
      "outputs": []
    },
    {
      "cell_type": "code",
      "source": [
        "svm_regressor.fit(X_train, Y_train)"
      ],
      "metadata": {
        "id": "XNu2uqID6xXo"
      },
      "execution_count": null,
      "outputs": []
    },
    {
      "cell_type": "code",
      "source": [
        "Y_pred_SVR = regressor.predict(X_test)"
      ],
      "metadata": {
        "id": "UoQR3sMP6xZq"
      },
      "execution_count": null,
      "outputs": []
    },
    {
      "cell_type": "code",
      "source": [
        "print(\"Mean absolute error : \", metrics.mean_absolute_error(Y_test, Y_pred_SVR))\n",
        "print(\"Mean squared error : \", metrics.mean_squared_error(Y_test, Y_pred_SVR))\n",
        "print(\"Root mean squared error : \", np.sqrt(metrics.mean_squared_error(Y_test, Y_pred_SVR)))"
      ],
      "metadata": {
        "id": "fNBw_IX86tIe"
      },
      "execution_count": null,
      "outputs": []
    },
    {
      "cell_type": "code",
      "source": [
        "r2_score(Y_test, Y_pred_SVR)"
      ],
      "metadata": {
        "id": "j2OFAkd565J5"
      },
      "execution_count": null,
      "outputs": []
    },
    {
      "cell_type": "code",
      "source": [
        "plt.figure(figsize = (5,5))\n",
        "sns.distplot(Y_test-Y_pred_SVR)\n",
        "plt.show()"
      ],
      "metadata": {
        "id": "QyDmrdoh65MT"
      },
      "execution_count": null,
      "outputs": []
    },
    {
      "cell_type": "code",
      "source": [
        "from sklearn.ensemble import RandomForestRegressor"
      ],
      "metadata": {
        "id": "cv7NqUM565Ob"
      },
      "execution_count": null,
      "outputs": []
    },
    {
      "cell_type": "code",
      "source": [
        "n_estimators = [int(x) for x in np.linspace(start = 100, stop = 1200, num = 12)]\n",
        "print(n_estimators)"
      ],
      "metadata": {
        "id": "GHQ0OrH469_1"
      },
      "execution_count": null,
      "outputs": []
    },
    {
      "cell_type": "code",
      "source": [
        "#Number of features to consider at every split\n",
        "max_features = ['auto', 'sqrt']\n",
        "#max_features = [2, 3, 4]\n",
        "#Maximum number of levels in tree\n",
        "max_depth = [int(x) for x in np.linspace(start = 5, stop = 30, num = 6)]\n",
        "#Minimum number of samples required to split a node\n",
        "min_samples_split = [2, 5, 10, 15, 100]\n",
        "#Minimum number of samples required at each leaf node\n",
        "min_samples_leaf = [1, 2, 5, 10]\n",
        "bootstrap = [True, False]"
      ],
      "metadata": {
        "id": "1Pd8Romh6-CG"
      },
      "execution_count": null,
      "outputs": []
    },
    {
      "cell_type": "code",
      "source": [
        "random_grid = {'n_estimators': n_estimators,\n",
        "              'max_features': max_features,\n",
        "              'max_depth': max_depth,\n",
        "              'min_samples_split': min_samples_split,\n",
        "               'min_samples_leaf': min_samples_leaf,\n",
        "               'bootstrap': bootstrap}\n",
        "\n",
        "random_grid"
      ],
      "metadata": {
        "id": "kjiqXaIV6-EJ"
      },
      "execution_count": null,
      "outputs": []
    },
    {
      "cell_type": "code",
      "source": [
        "rfc = RandomForestRegressor()"
      ],
      "metadata": {
        "id": "6cycLbQ46-GK"
      },
      "execution_count": null,
      "outputs": []
    },
    {
      "cell_type": "code",
      "source": [
        "rsc = RandomizedSearchCV(estimator = rfc, param_distributions = random_grid, scoring = 'neg_mean_squared_error', n_iter = 3, cv = 3, random_state = 42, verbose = 2, n_jobs=1)"
      ],
      "metadata": {
        "id": "aO-jw07l6-IP"
      },
      "execution_count": null,
      "outputs": []
    },
    {
      "cell_type": "code",
      "source": [
        "rsc.fit(X_train, Y_train)"
      ],
      "metadata": {
        "id": "ZV2df-jC65Qm"
      },
      "execution_count": null,
      "outputs": []
    },
    {
      "cell_type": "code",
      "source": [
        "pd.DataFrame(rsc.cv_results_)"
      ],
      "metadata": {
        "id": "_nRXugZo8rpD"
      },
      "execution_count": null,
      "outputs": []
    },
    {
      "cell_type": "code",
      "source": [
        "rsc.best_params_"
      ],
      "metadata": {
        "id": "x0xAjYWG8rru"
      },
      "execution_count": null,
      "outputs": []
    },
    {
      "cell_type": "code",
      "source": [
        "regressor_RandomForest_BestParams = rsc.best_estimator_"
      ],
      "metadata": {
        "id": "YnWv4XUV8ruL"
      },
      "execution_count": null,
      "outputs": []
    },
    {
      "cell_type": "code",
      "source": [
        "regressor_RandomForest_BestParams.fit(X_train, Y_train)"
      ],
      "metadata": {
        "id": "n73vsyxJ8rwX"
      },
      "execution_count": null,
      "outputs": []
    },
    {
      "cell_type": "code",
      "source": [
        "predictions_rfr_bestParams = regressor_RandomForest_BestParams.predict(X_test)"
      ],
      "metadata": {
        "id": "J-XWLTAp8ry9"
      },
      "execution_count": null,
      "outputs": []
    },
    {
      "cell_type": "code",
      "source": [
        "plt.figure(figsize = (5,5))\n",
        "sns.distplot(Y_test-predictions_rfr_bestParams)\n",
        "plt.show()"
      ],
      "metadata": {
        "id": "3amqUcRz83Sa"
      },
      "execution_count": null,
      "outputs": []
    },
    {
      "cell_type": "code",
      "source": [
        "print(\"Mean absolute error : \", metrics.mean_absolute_error(Y_test, predictions_rfr_bestParams))\n",
        "print(\"Mean squared error : \", metrics.mean_squared_error(Y_test, predictions_rfr_bestParams))\n",
        "print(\"Root mean squared error : \", np.sqrt(metrics.mean_squared_error(Y_test, predictions_rfr_bestParams)))"
      ],
      "metadata": {
        "id": "cMFWZrzs83V-"
      },
      "execution_count": null,
      "outputs": []
    },
    {
      "cell_type": "code",
      "source": [
        "r2_score(Y_test, predictions_rfr_bestParams)"
      ],
      "metadata": {
        "id": "u-7CFF6P_gFV"
      },
      "execution_count": null,
      "outputs": []
    }
  ],
  "metadata": {
    "colab": {
      "provenance": []
    },
    "kernelspec": {
      "display_name": "Python 3",
      "language": "python",
      "name": "python3"
    },
    "language_info": {
      "codemirror_mode": {
        "name": "ipython",
        "version": 3
      },
      "file_extension": ".py",
      "mimetype": "text/x-python",
      "name": "python",
      "nbconvert_exporter": "python",
      "pygments_lexer": "ipython3",
      "version": "3.6.5"
    }
  },
  "nbformat": 4,
  "nbformat_minor": 0
}